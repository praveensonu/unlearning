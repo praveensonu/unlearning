{
 "cells": [
  {
   "cell_type": "code",
   "execution_count": 1,
   "metadata": {},
   "outputs": [],
   "source": [
    "import pandas as pd\n",
    "import torch\n",
    "import os\n",
    "from transformers import AutoTokenizer, AutoModelForCausalLM, TrainingArguments, Trainer\n",
    "from peft import LoraConfig, get_peft_model\n",
    "\n",
    "from data_module import convert_raw_data_to_model_qa, QAForgetDataset, custom_data_collator_forget\n",
    "from forget_trainer import ForgetTrainer\n",
    "from config import Config\n",
    "from perplexity import Perplexity, predict\n",
    "from template import get_llama3_chat_template"
   ]
  },
  {
   "cell_type": "code",
   "execution_count": 2,
   "metadata": {},
   "outputs": [],
   "source": [
    "os.environ[\"CUDA_VISIBLE_DEVICES\"] = \"0,4\""
   ]
  },
  {
   "cell_type": "code",
   "execution_count": 3,
   "metadata": {},
   "outputs": [],
   "source": [
    "## using the llama 3 template here, we can later change it to Olmo's template for our experiments\n",
    "\n",
    "LLAMA3_CHAT_TEMPLATE = \"\"\"<|start_header_id|>user<|end_header_id|>\n",
    "\n",
    "{instruction}<|eot_id|><|start_header_id|>assistant<|end_header_id|>\n",
    "\n",
    "\"\"\""
   ]
  },
  {
   "cell_type": "code",
   "execution_count": 4,
   "metadata": {},
   "outputs": [],
   "source": [
    "df = pd.read_csv('/home/praveen/theoden/ul_paper/dataset/forget.csv')"
   ]
  },
  {
   "cell_type": "code",
   "execution_count": 5,
   "metadata": {},
   "outputs": [],
   "source": [
    "cfg = Config()"
   ]
  },
  {
   "cell_type": "code",
   "execution_count": 6,
   "metadata": {},
   "outputs": [],
   "source": [
    "tokenizer = AutoTokenizer.from_pretrained(cfg.model_id, token = cfg.access_token)\n",
    "tokenizer.pad_token = tokenizer.eos_token"
   ]
  },
  {
   "cell_type": "code",
   "execution_count": 7,
   "metadata": {},
   "outputs": [
    {
     "data": {
      "application/vnd.jupyter.widget-view+json": {
       "model_id": "4ddf88f53abc4981822927914845b146",
       "version_major": 2,
       "version_minor": 0
      },
      "text/plain": [
       "Loading checkpoint shards:   0%|          | 0/4 [00:00<?, ?it/s]"
      ]
     },
     "metadata": {},
     "output_type": "display_data"
    }
   ],
   "source": [
    "model = AutoModelForCausalLM.from_pretrained(cfg.model_id,\n",
    "                                             device_map = 'auto',\n",
    "                                             torch_dtype = torch.bfloat16,\n",
    "                                             token = cfg.access_token)"
   ]
  },
  {
   "cell_type": "code",
   "execution_count": 8,
   "metadata": {},
   "outputs": [],
   "source": [
    "#model.gradient_checkpointing_enable()\n",
    "model.gradient_checkpointing_disable()"
   ]
  },
  {
   "cell_type": "code",
   "execution_count": 9,
   "metadata": {},
   "outputs": [
    {
     "name": "stdout",
     "output_type": "stream",
     "text": [
      "calculating perplexity for next_token! Please change this if this is not the case\n",
      "Average loss for 16 batches: 6.467221558094025\n",
      "tensor(643.6929)\n"
     ]
    }
   ],
   "source": [
    "## perplexity on forget set before finetuning with ga\n",
    "## on next token prediction -> includes question and asnwer\n",
    "\n",
    "\n",
    "batch_size = cfg.batch_size\n",
    "max_length = 266\n",
    "\n",
    "next_token_perplexity_ul = Perplexity(\n",
    "    model = model, \n",
    "    tokenizer = tokenizer, \n",
    "    template = LLAMA3_CHAT_TEMPLATE, \n",
    "    batch_size = batch_size, \n",
    "    max_length = max_length,\n",
    "    df =df,\n",
    "    case='next_token',\n",
    "    chat_tokens=4)\n",
    "\n",
    "print(next_token_perplexity_ul)"
   ]
  },
  {
   "cell_type": "code",
   "execution_count": 10,
   "metadata": {},
   "outputs": [
    {
     "name": "stdout",
     "output_type": "stream",
     "text": [
      "calculating perplexity for qa! Please change this if this is not the case\n",
      "Average loss for 16 batches: 1.6510832905769348\n",
      "tensor(5.2126)\n"
     ]
    }
   ],
   "source": [
    "## perplexity on forget set before finetuning with ga\n",
    "## -> conditional perplexity calculation on answer given a question\n",
    "\n",
    "qa_perplexity_ul = Perplexity(\n",
    "    model = model, \n",
    "    tokenizer =tokenizer, \n",
    "    template =LLAMA3_CHAT_TEMPLATE, \n",
    "    batch_size =batch_size, \n",
    "    max_length =max_length,\n",
    "    df =df,\n",
    "    case='qa',\n",
    "    chat_tokens=4)\n",
    "\n",
    "print(qa_perplexity_ul)"
   ]
  },
  {
   "cell_type": "code",
   "execution_count": 6,
   "metadata": {},
   "outputs": [],
   "source": [
    "retain = pd.read_csv('/home/praveen/theoden/ul_paper/dataset/retain.csv')"
   ]
  },
  {
   "cell_type": "code",
   "execution_count": 10,
   "metadata": {},
   "outputs": [
    {
     "name": "stdout",
     "output_type": "stream",
     "text": [
      "calculating perplexity for next_token! Please change this if this is not the case\n",
      "Average loss for 9 batches: 6.863064342074924\n",
      "tensor(956.2930)\n"
     ]
    }
   ],
   "source": [
    "## perplexity on retain set before finetuing with ga\n",
    "## on next token prediction -> includes question and asnwer\n",
    "batch_size = cfg.batch_size\n",
    "max_length = 266\n",
    "\n",
    "next_token_perplexity_ul = Perplexity(\n",
    "    model = model, \n",
    "    tokenizer = tokenizer, \n",
    "    template = LLAMA3_CHAT_TEMPLATE, \n",
    "    batch_size = batch_size, \n",
    "    max_length = max_length,\n",
    "    df =retain,\n",
    "    case='next_token',\n",
    "    chat_tokens=4)\n",
    "\n",
    "print(next_token_perplexity_ul)"
   ]
  },
  {
   "cell_type": "code",
   "execution_count": 11,
   "metadata": {},
   "outputs": [
    {
     "name": "stdout",
     "output_type": "stream",
     "text": [
      "calculating perplexity for qa! Please change this if this is not the case\n",
      "Average loss for 9 batches: 1.2573475970162287\n",
      "tensor(3.5161)\n"
     ]
    }
   ],
   "source": [
    "## perplexity on retain set before finetuing with ga\n",
    "## -> conditional perplexity calculation on answer given a question\n",
    "\n",
    "\n",
    "qa_perplexity_ul = Perplexity(\n",
    "    model = model, \n",
    "    tokenizer =tokenizer, \n",
    "    template =LLAMA3_CHAT_TEMPLATE, \n",
    "    batch_size =batch_size, \n",
    "    max_length =max_length,\n",
    "    df =retain,\n",
    "    case='qa',\n",
    "    chat_tokens=4)\n",
    "\n",
    "print(qa_perplexity_ul)"
   ]
  },
  {
   "cell_type": "markdown",
   "metadata": {},
   "source": [
    "#### LoRA Finetuning"
   ]
  },
  {
   "cell_type": "code",
   "execution_count": 9,
   "metadata": {},
   "outputs": [],
   "source": [
    "model.gradient_checkpointing_enable()"
   ]
  },
  {
   "cell_type": "code",
   "execution_count": 10,
   "metadata": {},
   "outputs": [
    {
     "name": "stdout",
     "output_type": "stream",
     "text": [
      "trainable params: 18,874,368 || all params: 8,049,135,616 || trainable%: 0.2345\n"
     ]
    }
   ],
   "source": [
    "config = LoraConfig(\n",
    "        r = cfg.LoRA_r,\n",
    "        lora_alpha = cfg.LoRA_alpha,\n",
    "        lora_dropout= cfg.LoRA_dropout,\n",
    "        target_modules = ['v_proj', 'k_proj', 'up_proj', 'o_proj', 'gate_proj', ' q_proj', 'down_proj'],\n",
    "        bias = 'none',\n",
    "        task_type = 'CAUSAL_LM',        \n",
    ")\n",
    "\n",
    "model = get_peft_model(model, config)\n",
    "model.print_trainable_parameters()"
   ]
  },
  {
   "cell_type": "code",
   "execution_count": 12,
   "metadata": {},
   "outputs": [],
   "source": [
    "data_path = '/home/praveen/theoden/ul_paper/dataset/forget.csv'\n",
    "dataset = QAForgetDataset(data_path = data_path,\n",
    "                          tokenizer = tokenizer,\n",
    "                          max_length = 266) \n"
   ]
  },
  {
   "cell_type": "code",
   "execution_count": 13,
   "metadata": {},
   "outputs": [
    {
     "name": "stderr",
     "output_type": "stream",
     "text": [
      "/home/praveen/miniconda3/envs/semeval/lib/python3.11/site-packages/transformers/training_args.py:1575: FutureWarning: `evaluation_strategy` is deprecated and will be removed in version 4.46 of 🤗 Transformers. Use `eval_strategy` instead\n",
      "  warnings.warn(\n"
     ]
    }
   ],
   "source": [
    "training_args = TrainingArguments(\n",
    "    output_dir = cfg.save_dir,\n",
    "    learning_rate = cfg.lr,\n",
    "    per_device_train_batch_size= cfg.batch_size,\n",
    "    per_device_eval_batch_size=  cfg.batch_size,\n",
    "    num_train_epochs= 10,\n",
    "    weight_decay = cfg.weight_decay,\n",
    "    logging_dir = f'{cfg.save_dir}/logs',\n",
    "    #save_steps = cfg.forget.save_steps,\n",
    "    evaluation_strategy= 'no',\n",
    "    save_total_limit= 2,\n",
    "    bf16 = True,\n",
    "\n",
    ")"
   ]
  },
  {
   "cell_type": "code",
   "execution_count": 14,
   "metadata": {},
   "outputs": [
    {
     "name": "stderr",
     "output_type": "stream",
     "text": [
      "/tmp/ipykernel_1139333/719807734.py:2: FutureWarning: `tokenizer` is deprecated and will be removed in version 5.0.0 for `ForgetTrainer.__init__`. Use `processing_class` instead.\n",
      "  trainer = ForgetTrainer(\n"
     ]
    }
   ],
   "source": [
    "# Initialize the custom trainer\n",
    "trainer = ForgetTrainer(\n",
    "            model = model, \n",
    "            args = training_args,\n",
    "            train_dataset = dataset,\n",
    "            tokenizer = tokenizer,\n",
    "            data_collator = custom_data_collator_forget,\n",
    "            #forget_loss = cfg.forget.forget_loss\n",
    ")\n"
   ]
  },
  {
   "cell_type": "code",
   "execution_count": 15,
   "metadata": {},
   "outputs": [
    {
     "name": "stderr",
     "output_type": "stream",
     "text": [
      "\u001b[34m\u001b[1mwandb\u001b[0m: \u001b[33mWARNING\u001b[0m The `run_name` is currently set to the same value as `TrainingArguments.output_dir`. If this was not intended, please specify a different run name by setting the `TrainingArguments.run_name` parameter.\n",
      "\u001b[34m\u001b[1mwandb\u001b[0m: Using wandb-core as the SDK backend. Please refer to https://wandb.me/wandb-core for more information.\n"
     ]
    },
    {
     "name": "stderr",
     "output_type": "stream",
     "text": [
      "\u001b[34m\u001b[1mwandb\u001b[0m: Currently logged in as: \u001b[33mpraveenbushipaka942\u001b[0m. Use \u001b[1m`wandb login --relogin`\u001b[0m to force relogin\n"
     ]
    },
    {
     "data": {
      "text/html": [
       "Tracking run with wandb version 0.18.5"
      ],
      "text/plain": [
       "<IPython.core.display.HTML object>"
      ]
     },
     "metadata": {},
     "output_type": "display_data"
    },
    {
     "data": {
      "text/html": [
       "Run data is saved locally in <code>/home/praveen/theoden/ul_paper/wandb/run-20250122_115135-hzi3fs95</code>"
      ],
      "text/plain": [
       "<IPython.core.display.HTML object>"
      ]
     },
     "metadata": {},
     "output_type": "display_data"
    },
    {
     "data": {
      "text/html": [
       "Syncing run <strong><a href='https://wandb.ai/praveenbushipaka942/huggingface/runs/hzi3fs95' target=\"_blank\">/home/praveen/theoden/ul_paper/outputs/testing</a></strong> to <a href='https://wandb.ai/praveenbushipaka942/huggingface' target=\"_blank\">Weights & Biases</a> (<a href='https://wandb.me/run' target=\"_blank\">docs</a>)<br/>"
      ],
      "text/plain": [
       "<IPython.core.display.HTML object>"
      ]
     },
     "metadata": {},
     "output_type": "display_data"
    },
    {
     "data": {
      "text/html": [
       " View project at <a href='https://wandb.ai/praveenbushipaka942/huggingface' target=\"_blank\">https://wandb.ai/praveenbushipaka942/huggingface</a>"
      ],
      "text/plain": [
       "<IPython.core.display.HTML object>"
      ]
     },
     "metadata": {},
     "output_type": "display_data"
    },
    {
     "data": {
      "text/html": [
       " View run at <a href='https://wandb.ai/praveenbushipaka942/huggingface/runs/hzi3fs95' target=\"_blank\">https://wandb.ai/praveenbushipaka942/huggingface/runs/hzi3fs95</a>"
      ],
      "text/plain": [
       "<IPython.core.display.HTML object>"
      ]
     },
     "metadata": {},
     "output_type": "display_data"
    },
    {
     "data": {
      "text/html": [
       "\n",
       "    <div>\n",
       "      \n",
       "      <progress value='160' max='160' style='width:300px; height:20px; vertical-align: middle;'></progress>\n",
       "      [160/160 08:58, Epoch 10/10]\n",
       "    </div>\n",
       "    <table border=\"1\" class=\"dataframe\">\n",
       "  <thead>\n",
       " <tr style=\"text-align: left;\">\n",
       "      <th>Step</th>\n",
       "      <th>Training Loss</th>\n",
       "    </tr>\n",
       "  </thead>\n",
       "  <tbody>\n",
       "  </tbody>\n",
       "</table><p>"
      ],
      "text/plain": [
       "<IPython.core.display.HTML object>"
      ]
     },
     "metadata": {},
     "output_type": "display_data"
    },
    {
     "data": {
      "text/plain": [
       "TrainOutput(global_step=160, training_loss=-32.037417602539065, metrics={'train_runtime': 544.7009, 'train_samples_per_second': 8.831, 'train_steps_per_second': 0.294, 'total_flos': 5.77583995183104e+16, 'train_loss': -32.037417602539065, 'epoch': 10.0})"
      ]
     },
     "execution_count": 15,
     "metadata": {},
     "output_type": "execute_result"
    }
   ],
   "source": [
    "# train the model\n",
    "model.config.use_cache = False\n",
    "trainer.train()"
   ]
  },
  {
   "cell_type": "code",
   "execution_count": 16,
   "metadata": {},
   "outputs": [
    {
     "name": "stdout",
     "output_type": "stream",
     "text": [
      "Forget LoRA adapter saved at /home/praveen/theoden/ul_paper/outputs/testing\n"
     ]
    }
   ],
   "source": [
    "#model = model.merge_and_unload()\n",
    "model.save_pretrained(cfg.save_dir)\n",
    "tokenizer.save_pretrained(cfg.save_dir)\n",
    "print(f'Forget LoRA adapter saved at {cfg.save_dir}')"
   ]
  },
  {
   "cell_type": "markdown",
   "metadata": {},
   "source": [
    "#### perplexity calculation after finetuning"
   ]
  },
  {
   "cell_type": "markdown",
   "metadata": {},
   "source": [
    "##### loading model"
   ]
  },
  {
   "cell_type": "code",
   "execution_count": 7,
   "metadata": {},
   "outputs": [],
   "source": [
    "from peft import PeftModel, PeftConfig"
   ]
  },
  {
   "cell_type": "code",
   "execution_count": 8,
   "metadata": {},
   "outputs": [],
   "source": [
    "config = PeftConfig.from_pretrained('/home/praveen/theoden/ul_paper/outputs/final2')"
   ]
  },
  {
   "cell_type": "code",
   "execution_count": 9,
   "metadata": {},
   "outputs": [],
   "source": [
    "tokenizer = AutoTokenizer.from_pretrained(cfg.model_id, token = cfg.access_token)\n",
    "tokenizer.pad_token = tokenizer.eos_token"
   ]
  },
  {
   "cell_type": "code",
   "execution_count": 10,
   "metadata": {},
   "outputs": [
    {
     "data": {
      "application/vnd.jupyter.widget-view+json": {
       "model_id": "293d928d79f64050be1ff265cf1788be",
       "version_major": 2,
       "version_minor": 0
      },
      "text/plain": [
       "Loading checkpoint shards:   0%|          | 0/4 [00:00<?, ?it/s]"
      ]
     },
     "metadata": {},
     "output_type": "display_data"
    }
   ],
   "source": [
    "base_model = AutoModelForCausalLM.from_pretrained(cfg.model_id,\n",
    "                                             device_map = 'auto',\n",
    "                                             torch_dtype = torch.bfloat16,\n",
    "                                             token = cfg.access_token)"
   ]
  },
  {
   "cell_type": "code",
   "execution_count": 11,
   "metadata": {},
   "outputs": [
    {
     "data": {
      "text/plain": [
       "LlamaForCausalLM(\n",
       "  (model): LlamaModel(\n",
       "    (embed_tokens): Embedding(128256, 4096)\n",
       "    (layers): ModuleList(\n",
       "      (0-31): 32 x LlamaDecoderLayer(\n",
       "        (self_attn): LlamaAttention(\n",
       "          (q_proj): Linear(in_features=4096, out_features=4096, bias=False)\n",
       "          (k_proj): Linear(in_features=4096, out_features=1024, bias=False)\n",
       "          (v_proj): Linear(in_features=4096, out_features=1024, bias=False)\n",
       "          (o_proj): Linear(in_features=4096, out_features=4096, bias=False)\n",
       "        )\n",
       "        (mlp): LlamaMLP(\n",
       "          (gate_proj): Linear(in_features=4096, out_features=14336, bias=False)\n",
       "          (up_proj): Linear(in_features=4096, out_features=14336, bias=False)\n",
       "          (down_proj): Linear(in_features=14336, out_features=4096, bias=False)\n",
       "          (act_fn): SiLU()\n",
       "        )\n",
       "        (input_layernorm): LlamaRMSNorm((4096,), eps=1e-05)\n",
       "        (post_attention_layernorm): LlamaRMSNorm((4096,), eps=1e-05)\n",
       "      )\n",
       "    )\n",
       "    (norm): LlamaRMSNorm((4096,), eps=1e-05)\n",
       "    (rotary_emb): LlamaRotaryEmbedding()\n",
       "  )\n",
       "  (lm_head): Linear(in_features=4096, out_features=128256, bias=False)\n",
       ")"
      ]
     },
     "execution_count": 11,
     "metadata": {},
     "output_type": "execute_result"
    }
   ],
   "source": [
    "peft_model_id = '/home/praveen/theoden/ul_paper/outputs/final2'\n",
    "model = PeftModel.from_pretrained(base_model, peft_model_id)\n",
    "model.merge_and_unload()"
   ]
  },
  {
   "cell_type": "markdown",
   "metadata": {},
   "source": [
    "##### calculating perplexity"
   ]
  },
  {
   "cell_type": "code",
   "execution_count": 11,
   "metadata": {},
   "outputs": [
    {
     "name": "stdout",
     "output_type": "stream",
     "text": [
      "calculating perplexity for next_token! Please change this if this is not the case\n",
      "Average loss for 16 batches: 145.22511100769043\n",
      "tensor(inf)\n"
     ]
    }
   ],
   "source": [
    "## perplexity on forget set after finetuning with ga\n",
    "## on next token prediction -> includes question and asnwer\n",
    "batch_size = cfg.batch_size\n",
    "max_length = 266\n",
    "\n",
    "next_token_perplexity_ul = Perplexity(\n",
    "    model = model, \n",
    "    tokenizer = tokenizer, \n",
    "    template = LLAMA3_CHAT_TEMPLATE, \n",
    "    batch_size = batch_size, \n",
    "    max_length = max_length,\n",
    "    df =df,\n",
    "    case='next_token',\n",
    "    chat_tokens=4)\n",
    "\n",
    "print(next_token_perplexity_ul)"
   ]
  },
  {
   "cell_type": "code",
   "execution_count": 12,
   "metadata": {},
   "outputs": [
    {
     "name": "stdout",
     "output_type": "stream",
     "text": [
      "calculating perplexity for qa! Please change this if this is not the case\n",
      "Average loss for 16 batches: 149.3817491531372\n",
      "tensor(inf)\n"
     ]
    }
   ],
   "source": [
    "## perplexity on forget set after finetuning with ga\n",
    "## -> conditional perplexity calculation on answer given a question\n",
    "qa_perplexity_ul = Perplexity(\n",
    "    model = model, \n",
    "    tokenizer =tokenizer, \n",
    "    template =LLAMA3_CHAT_TEMPLATE, \n",
    "    batch_size =batch_size, \n",
    "    max_length =max_length,\n",
    "    df =df,\n",
    "    case='qa',\n",
    "    chat_tokens=4)\n",
    "\n",
    "print(qa_perplexity_ul)"
   ]
  },
  {
   "cell_type": "code",
   "execution_count": 12,
   "metadata": {},
   "outputs": [
    {
     "name": "stdout",
     "output_type": "stream",
     "text": [
      "calculating perplexity for next_token! Please change this if this is not the case\n",
      "Average loss for 9 batches: 144.9854532877604\n",
      "tensor(inf)\n"
     ]
    }
   ],
   "source": [
    "## perplexity on retain after finetuning on gradient ascent\n",
    "## on next token prediction -> includes question and asnwer\n",
    "\n",
    "batch_size = cfg.batch_size\n",
    "max_length = 266\n",
    "\n",
    "next_token_perplexity_ul = Perplexity(\n",
    "    model = model, \n",
    "    tokenizer = tokenizer, \n",
    "    template = LLAMA3_CHAT_TEMPLATE, \n",
    "    batch_size = batch_size, \n",
    "    max_length = max_length,\n",
    "    df =retain,\n",
    "    case='next_token',\n",
    "    chat_tokens=4)\n",
    "\n",
    "print(next_token_perplexity_ul)"
   ]
  },
  {
   "cell_type": "code",
   "execution_count": 14,
   "metadata": {},
   "outputs": [
    {
     "name": "stdout",
     "output_type": "stream",
     "text": [
      "calculating perplexity for qa! Please change this if this is not the case\n",
      "Average loss for 9 batches: 147.22256469726562\n",
      "tensor(inf)\n"
     ]
    }
   ],
   "source": [
    "## perplexity on retain after finetuning on gradient ascent\n",
    "## -> conditional perplexity calculation on answer given a question\n",
    "\n",
    "qa_perplexity_ul = Perplexity(\n",
    "    model = model, \n",
    "    tokenizer =tokenizer, \n",
    "    template =LLAMA3_CHAT_TEMPLATE, \n",
    "    batch_size =batch_size, \n",
    "    max_length =max_length,\n",
    "    df = retain,\n",
    "    case='qa',\n",
    "    chat_tokens=4)\n",
    "\n",
    "print(qa_perplexity_ul)"
   ]
  },
  {
   "cell_type": "code",
   "execution_count": null,
   "metadata": {},
   "outputs": [],
   "source": []
  }
 ],
 "metadata": {
  "kernelspec": {
   "display_name": "semeval",
   "language": "python",
   "name": "semeval"
  },
  "language_info": {
   "codemirror_mode": {
    "name": "ipython",
    "version": 3
   },
   "file_extension": ".py",
   "mimetype": "text/x-python",
   "name": "python",
   "nbconvert_exporter": "python",
   "pygments_lexer": "ipython3",
   "version": "3.11.10"
  }
 },
 "nbformat": 4,
 "nbformat_minor": 2
}
