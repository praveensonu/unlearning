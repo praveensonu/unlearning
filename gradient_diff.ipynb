{
 "cells": [
  {
   "cell_type": "code",
   "execution_count": null,
   "metadata": {},
   "outputs": [],
   "source": [
    "import pandas as pd\n",
    "import torch\n",
    "import os\n",
    "from transformers import AutoTokenizer, AutoModelForCausalLM, TrainingArguments\n",
    "from grad_diff import DualDataset, custom_gd_collator_forget, GradDiffTrainer\n",
    "from config import Config\n",
    "from peft import PeftModel, LoraConfig, get_peft_model\n",
    "from perplexity import Perplexity"
   ]
  },
  {
   "cell_type": "code",
   "execution_count": 2,
   "metadata": {},
   "outputs": [],
   "source": [
    "os.environ[\"CUDA_VISIBLE_DEVICES\"] = \"1,2,4\""
   ]
  },
  {
   "cell_type": "code",
   "execution_count": 3,
   "metadata": {},
   "outputs": [],
   "source": [
    "## using the llama 3 template here, we can later change it to Olmo's template for our experiments\n",
    "\n",
    "LLAMA3_CHAT_TEMPLATE = \"\"\"<|start_header_id|>user<|end_header_id|>\n",
    "\n",
    "{instruction}<|eot_id|><|start_header_id|>assistant<|end_header_id|>\n",
    "\n",
    "\"\"\""
   ]
  },
  {
   "cell_type": "markdown",
   "metadata": {},
   "source": [
    "### Dataset & Finetuning"
   ]
  },
  {
   "cell_type": "code",
   "execution_count": 4,
   "metadata": {},
   "outputs": [],
   "source": [
    "forget = pd.read_csv('/home/praveen/theoden/ul_paper/dataset/forget.csv')\n",
    "retain = pd.read_csv('/home/praveen/theoden/ul_paper/dataset/retain.csv')"
   ]
  },
  {
   "cell_type": "code",
   "execution_count": 4,
   "metadata": {},
   "outputs": [],
   "source": [
    "cfg = Config()"
   ]
  },
  {
   "cell_type": "code",
   "execution_count": 5,
   "metadata": {},
   "outputs": [],
   "source": [
    "tokenizer = AutoTokenizer.from_pretrained(cfg.model_id, token = cfg.access_token)\n",
    "tokenizer.pad_token = tokenizer.eos_token"
   ]
  },
  {
   "cell_type": "markdown",
   "metadata": {},
   "source": [
    "#### LoRA Finetuning"
   ]
  },
  {
   "cell_type": "code",
   "execution_count": null,
   "metadata": {},
   "outputs": [],
   "source": [
    "model = AutoModelForCausalLM.from_pretrained(cfg.model_id, \n",
    "                                             device_map = 'auto',\n",
    "                                             torch_dtype = torch.bfloat16, \n",
    "                                             token=cfg.access_token,)"
   ]
  },
  {
   "cell_type": "code",
   "execution_count": 11,
   "metadata": {},
   "outputs": [
    {
     "name": "stdout",
     "output_type": "stream",
     "text": [
      "trainable params: 18,874,368 || all params: 8,049,135,616 || trainable%: 0.2345\n"
     ]
    }
   ],
   "source": [
    "config = LoraConfig(\n",
    "        r = cfg.LoRA_r,\n",
    "        lora_alpha = cfg.LoRA_alpha,\n",
    "        lora_dropout= cfg.LoRA_dropout,\n",
    "        target_modules = ['v_proj', 'k_proj', 'up_proj', 'o_proj', 'gate_proj', ' q_proj', 'down_proj'],\n",
    "        bias = 'none',\n",
    "        task_type = 'CAUSAL_LM',\n",
    "    )\n",
    "# wrapping the model with the LoRA configuration\n",
    "model = get_peft_model(model, config)\n",
    "model.print_trainable_parameters()"
   ]
  },
  {
   "cell_type": "code",
   "execution_count": 13,
   "metadata": {},
   "outputs": [],
   "source": [
    "dataset = DualDataset(forget, retain, tokenizer, 266)\n"
   ]
  },
  {
   "cell_type": "code",
   "execution_count": 14,
   "metadata": {},
   "outputs": [
    {
     "name": "stdout",
     "output_type": "stream",
     "text": [
      "((tensor([128000, 128006,    882, 128007,    271,    678,   1403,  27373,  12631,\n",
      "           304,    902,   8563,   1611,    452,   8869,  59335,     13, 128009,\n",
      "        128006,  78191, 128007,    271,      1,  32449,     72,  14919,      1,\n",
      "           323,    330,     49,   4210,  22353,   1210, 128009, 128009, 128009,\n",
      "        128009, 128009, 128009, 128009, 128009, 128009, 128009, 128009, 128009,\n",
      "        128009, 128009, 128009, 128009, 128009, 128009, 128009, 128009, 128009,\n",
      "        128009, 128009, 128009, 128009, 128009, 128009, 128009, 128009, 128009,\n",
      "        128009, 128009, 128009, 128009, 128009, 128009, 128009, 128009, 128009,\n",
      "        128009, 128009, 128009, 128009, 128009, 128009, 128009, 128009, 128009,\n",
      "        128009, 128009, 128009, 128009, 128009, 128009, 128009, 128009, 128009,\n",
      "        128009, 128009, 128009, 128009, 128009, 128009, 128009, 128009, 128009,\n",
      "        128009, 128009, 128009, 128009, 128009, 128009, 128009, 128009, 128009,\n",
      "        128009, 128009, 128009, 128009, 128009, 128009, 128009, 128009, 128009,\n",
      "        128009, 128009, 128009, 128009, 128009, 128009, 128009, 128009, 128009,\n",
      "        128009, 128009, 128009, 128009, 128009, 128009, 128009, 128009, 128009,\n",
      "        128009, 128009, 128009, 128009, 128009, 128009, 128009, 128009, 128009,\n",
      "        128009, 128009, 128009, 128009, 128009, 128009, 128009, 128009, 128009,\n",
      "        128009, 128009, 128009, 128009, 128009, 128009, 128009, 128009, 128009,\n",
      "        128009, 128009, 128009, 128009, 128009, 128009, 128009, 128009, 128009,\n",
      "        128009, 128009, 128009, 128009, 128009, 128009, 128009, 128009, 128009,\n",
      "        128009, 128009, 128009, 128009, 128009, 128009, 128009, 128009, 128009,\n",
      "        128009, 128009, 128009, 128009, 128009, 128009, 128009, 128009, 128009,\n",
      "        128009, 128009, 128009, 128009, 128009, 128009, 128009, 128009, 128009,\n",
      "        128009, 128009, 128009, 128009, 128009, 128009, 128009, 128009, 128009,\n",
      "        128009, 128009, 128009, 128009, 128009, 128009, 128009, 128009, 128009,\n",
      "        128009, 128009, 128009, 128009, 128009, 128009, 128009, 128009, 128009,\n",
      "        128009, 128009, 128009, 128009, 128009, 128009, 128009, 128009, 128009,\n",
      "        128009, 128009, 128009, 128009, 128009, 128009, 128009, 128009, 128009,\n",
      "        128009, 128009, 128009, 128009, 128009, 128009, 128009, 128009, 128009,\n",
      "        128009, 128009, 128009, 128009, 128009]), tensor([  -100,   -100,   -100,   -100,   -100,   -100,   -100,   -100,   -100,\n",
      "          -100,   -100,   -100,   -100,   -100,   -100,   -100,   -100,   -100,\n",
      "          -100,   -100,   -100,   -100,      1,  32449,     72,  14919,      1,\n",
      "           323,    330,     49,   4210,  22353,   1210, 128009,   -100,   -100,\n",
      "          -100,   -100,   -100,   -100,   -100,   -100,   -100,   -100,   -100,\n",
      "          -100,   -100,   -100,   -100,   -100,   -100,   -100,   -100,   -100,\n",
      "          -100,   -100,   -100,   -100,   -100,   -100,   -100,   -100,   -100,\n",
      "          -100,   -100,   -100,   -100,   -100,   -100,   -100,   -100,   -100,\n",
      "          -100,   -100,   -100,   -100,   -100,   -100,   -100,   -100,   -100,\n",
      "          -100,   -100,   -100,   -100,   -100,   -100,   -100,   -100,   -100,\n",
      "          -100,   -100,   -100,   -100,   -100,   -100,   -100,   -100,   -100,\n",
      "          -100,   -100,   -100,   -100,   -100,   -100,   -100,   -100,   -100,\n",
      "          -100,   -100,   -100,   -100,   -100,   -100,   -100,   -100,   -100,\n",
      "          -100,   -100,   -100,   -100,   -100,   -100,   -100,   -100,   -100,\n",
      "          -100,   -100,   -100,   -100,   -100,   -100,   -100,   -100,   -100,\n",
      "          -100,   -100,   -100,   -100,   -100,   -100,   -100,   -100,   -100,\n",
      "          -100,   -100,   -100,   -100,   -100,   -100,   -100,   -100,   -100,\n",
      "          -100,   -100,   -100,   -100,   -100,   -100,   -100,   -100,   -100,\n",
      "          -100,   -100,   -100,   -100,   -100,   -100,   -100,   -100,   -100,\n",
      "          -100,   -100,   -100,   -100,   -100,   -100,   -100,   -100,   -100,\n",
      "          -100,   -100,   -100,   -100,   -100,   -100,   -100,   -100,   -100,\n",
      "          -100,   -100,   -100,   -100,   -100,   -100,   -100,   -100,   -100,\n",
      "          -100,   -100,   -100,   -100,   -100,   -100,   -100,   -100,   -100,\n",
      "          -100,   -100,   -100,   -100,   -100,   -100,   -100,   -100,   -100,\n",
      "          -100,   -100,   -100,   -100,   -100,   -100,   -100,   -100,   -100,\n",
      "          -100,   -100,   -100,   -100,   -100,   -100,   -100,   -100,   -100,\n",
      "          -100,   -100,   -100,   -100,   -100,   -100,   -100,   -100,   -100,\n",
      "          -100,   -100,   -100,   -100,   -100,   -100,   -100,   -100,   -100,\n",
      "          -100,   -100,   -100,   -100,   -100,   -100,   -100,   -100,   -100,\n",
      "          -100,   -100,   -100,   -100,   -100]), tensor([1, 1, 1, 1, 1, 1, 1, 1, 1, 1, 1, 1, 1, 1, 1, 1, 1, 1, 1, 1, 1, 1, 1, 1,\n",
      "        1, 1, 1, 1, 1, 1, 1, 1, 1, 0, 0, 0, 0, 0, 0, 0, 0, 0, 0, 0, 0, 0, 0, 0,\n",
      "        0, 0, 0, 0, 0, 0, 0, 0, 0, 0, 0, 0, 0, 0, 0, 0, 0, 0, 0, 0, 0, 0, 0, 0,\n",
      "        0, 0, 0, 0, 0, 0, 0, 0, 0, 0, 0, 0, 0, 0, 0, 0, 0, 0, 0, 0, 0, 0, 0, 0,\n",
      "        0, 0, 0, 0, 0, 0, 0, 0, 0, 0, 0, 0, 0, 0, 0, 0, 0, 0, 0, 0, 0, 0, 0, 0,\n",
      "        0, 0, 0, 0, 0, 0, 0, 0, 0, 0, 0, 0, 0, 0, 0, 0, 0, 0, 0, 0, 0, 0, 0, 0,\n",
      "        0, 0, 0, 0, 0, 0, 0, 0, 0, 0, 0, 0, 0, 0, 0, 0, 0, 0, 0, 0, 0, 0, 0, 0,\n",
      "        0, 0, 0, 0, 0, 0, 0, 0, 0, 0, 0, 0, 0, 0, 0, 0, 0, 0, 0, 0, 0, 0, 0, 0,\n",
      "        0, 0, 0, 0, 0, 0, 0, 0, 0, 0, 0, 0, 0, 0, 0, 0, 0, 0, 0, 0, 0, 0, 0, 0,\n",
      "        0, 0, 0, 0, 0, 0, 0, 0, 0, 0, 0, 0, 0, 0, 0, 0, 0, 0, 0, 0, 0, 0, 0, 0,\n",
      "        0, 0, 0, 0, 0, 0, 0, 0, 0, 0, 0, 0, 0, 0, 0, 0, 0, 0, 0, 0, 0, 0, 0, 0,\n",
      "        0, 0])), (tensor([128000, 128006,    882, 128007,    271,   2409,    902,   7690,    374,\n",
      "          1611,    452,   8869,   1455,   3967,    369,  73301,     30, 128009,\n",
      "        128006,  78191, 128007,    271,   1548,    374,   1455,   3967,    369,\n",
      "         73301,    449,   7690,  11826,   2522,   1105,   2423,     13, 128009,\n",
      "        128009, 128009, 128009, 128009, 128009, 128009, 128009, 128009, 128009,\n",
      "        128009, 128009, 128009, 128009, 128009, 128009, 128009, 128009, 128009,\n",
      "        128009, 128009, 128009, 128009, 128009, 128009, 128009, 128009, 128009,\n",
      "        128009, 128009, 128009, 128009, 128009, 128009, 128009, 128009, 128009,\n",
      "        128009, 128009, 128009, 128009, 128009, 128009, 128009, 128009, 128009,\n",
      "        128009, 128009, 128009, 128009, 128009, 128009, 128009, 128009, 128009,\n",
      "        128009, 128009, 128009, 128009, 128009, 128009, 128009, 128009, 128009,\n",
      "        128009, 128009, 128009, 128009, 128009, 128009, 128009, 128009, 128009,\n",
      "        128009, 128009, 128009, 128009, 128009, 128009, 128009, 128009, 128009,\n",
      "        128009, 128009, 128009, 128009, 128009, 128009, 128009, 128009, 128009,\n",
      "        128009, 128009, 128009, 128009, 128009, 128009, 128009, 128009, 128009,\n",
      "        128009, 128009, 128009, 128009, 128009, 128009, 128009, 128009, 128009,\n",
      "        128009, 128009, 128009, 128009, 128009, 128009, 128009, 128009, 128009,\n",
      "        128009, 128009, 128009, 128009, 128009, 128009, 128009, 128009, 128009,\n",
      "        128009, 128009, 128009, 128009, 128009, 128009, 128009, 128009, 128009,\n",
      "        128009, 128009, 128009, 128009, 128009, 128009, 128009, 128009, 128009,\n",
      "        128009, 128009, 128009, 128009, 128009, 128009, 128009, 128009, 128009,\n",
      "        128009, 128009, 128009, 128009, 128009, 128009, 128009, 128009, 128009,\n",
      "        128009, 128009, 128009, 128009, 128009, 128009, 128009, 128009, 128009,\n",
      "        128009, 128009, 128009, 128009, 128009, 128009, 128009, 128009, 128009,\n",
      "        128009, 128009, 128009, 128009, 128009, 128009, 128009, 128009, 128009,\n",
      "        128009, 128009, 128009, 128009, 128009, 128009, 128009, 128009, 128009,\n",
      "        128009, 128009, 128009, 128009, 128009, 128009, 128009, 128009, 128009,\n",
      "        128009, 128009, 128009, 128009, 128009, 128009, 128009, 128009, 128009,\n",
      "        128009, 128009, 128009, 128009, 128009, 128009, 128009, 128009, 128009,\n",
      "        128009, 128009, 128009, 128009, 128009]), tensor([  -100,   -100,   -100,   -100,   -100,   -100,   -100,   -100,   -100,\n",
      "          -100,   -100,   -100,   -100,   -100,   -100,   -100,   -100,   -100,\n",
      "          -100,   -100,   -100,   -100,   1548,    374,   1455,   3967,    369,\n",
      "         73301,    449,   7690,  11826,   2522,   1105,   2423,     13, 128009,\n",
      "          -100,   -100,   -100,   -100,   -100,   -100,   -100,   -100,   -100,\n",
      "          -100,   -100,   -100,   -100,   -100,   -100,   -100,   -100,   -100,\n",
      "          -100,   -100,   -100,   -100,   -100,   -100,   -100,   -100,   -100,\n",
      "          -100,   -100,   -100,   -100,   -100,   -100,   -100,   -100,   -100,\n",
      "          -100,   -100,   -100,   -100,   -100,   -100,   -100,   -100,   -100,\n",
      "          -100,   -100,   -100,   -100,   -100,   -100,   -100,   -100,   -100,\n",
      "          -100,   -100,   -100,   -100,   -100,   -100,   -100,   -100,   -100,\n",
      "          -100,   -100,   -100,   -100,   -100,   -100,   -100,   -100,   -100,\n",
      "          -100,   -100,   -100,   -100,   -100,   -100,   -100,   -100,   -100,\n",
      "          -100,   -100,   -100,   -100,   -100,   -100,   -100,   -100,   -100,\n",
      "          -100,   -100,   -100,   -100,   -100,   -100,   -100,   -100,   -100,\n",
      "          -100,   -100,   -100,   -100,   -100,   -100,   -100,   -100,   -100,\n",
      "          -100,   -100,   -100,   -100,   -100,   -100,   -100,   -100,   -100,\n",
      "          -100,   -100,   -100,   -100,   -100,   -100,   -100,   -100,   -100,\n",
      "          -100,   -100,   -100,   -100,   -100,   -100,   -100,   -100,   -100,\n",
      "          -100,   -100,   -100,   -100,   -100,   -100,   -100,   -100,   -100,\n",
      "          -100,   -100,   -100,   -100,   -100,   -100,   -100,   -100,   -100,\n",
      "          -100,   -100,   -100,   -100,   -100,   -100,   -100,   -100,   -100,\n",
      "          -100,   -100,   -100,   -100,   -100,   -100,   -100,   -100,   -100,\n",
      "          -100,   -100,   -100,   -100,   -100,   -100,   -100,   -100,   -100,\n",
      "          -100,   -100,   -100,   -100,   -100,   -100,   -100,   -100,   -100,\n",
      "          -100,   -100,   -100,   -100,   -100,   -100,   -100,   -100,   -100,\n",
      "          -100,   -100,   -100,   -100,   -100,   -100,   -100,   -100,   -100,\n",
      "          -100,   -100,   -100,   -100,   -100,   -100,   -100,   -100,   -100,\n",
      "          -100,   -100,   -100,   -100,   -100,   -100,   -100,   -100,   -100,\n",
      "          -100,   -100,   -100,   -100,   -100]), tensor([1, 1, 1, 1, 1, 1, 1, 1, 1, 1, 1, 1, 1, 1, 1, 1, 1, 1, 1, 1, 1, 1, 1, 1,\n",
      "        1, 1, 1, 1, 1, 1, 1, 1, 1, 1, 1, 0, 0, 0, 0, 0, 0, 0, 0, 0, 0, 0, 0, 0,\n",
      "        0, 0, 0, 0, 0, 0, 0, 0, 0, 0, 0, 0, 0, 0, 0, 0, 0, 0, 0, 0, 0, 0, 0, 0,\n",
      "        0, 0, 0, 0, 0, 0, 0, 0, 0, 0, 0, 0, 0, 0, 0, 0, 0, 0, 0, 0, 0, 0, 0, 0,\n",
      "        0, 0, 0, 0, 0, 0, 0, 0, 0, 0, 0, 0, 0, 0, 0, 0, 0, 0, 0, 0, 0, 0, 0, 0,\n",
      "        0, 0, 0, 0, 0, 0, 0, 0, 0, 0, 0, 0, 0, 0, 0, 0, 0, 0, 0, 0, 0, 0, 0, 0,\n",
      "        0, 0, 0, 0, 0, 0, 0, 0, 0, 0, 0, 0, 0, 0, 0, 0, 0, 0, 0, 0, 0, 0, 0, 0,\n",
      "        0, 0, 0, 0, 0, 0, 0, 0, 0, 0, 0, 0, 0, 0, 0, 0, 0, 0, 0, 0, 0, 0, 0, 0,\n",
      "        0, 0, 0, 0, 0, 0, 0, 0, 0, 0, 0, 0, 0, 0, 0, 0, 0, 0, 0, 0, 0, 0, 0, 0,\n",
      "        0, 0, 0, 0, 0, 0, 0, 0, 0, 0, 0, 0, 0, 0, 0, 0, 0, 0, 0, 0, 0, 0, 0, 0,\n",
      "        0, 0, 0, 0, 0, 0, 0, 0, 0, 0, 0, 0, 0, 0, 0, 0, 0, 0, 0, 0, 0, 0, 0, 0,\n",
      "        0, 0])))\n"
     ]
    }
   ],
   "source": [
    "sample = dataset[2]\n",
    "print(sample)"
   ]
  },
  {
   "cell_type": "code",
   "execution_count": 16,
   "metadata": {},
   "outputs": [
    {
     "name": "stderr",
     "output_type": "stream",
     "text": [
      "/home/praveen/miniconda3/envs/semeval/lib/python3.11/site-packages/transformers/training_args.py:1575: FutureWarning: `evaluation_strategy` is deprecated and will be removed in version 4.46 of 🤗 Transformers. Use `eval_strategy` instead\n",
      "  warnings.warn(\n"
     ]
    }
   ],
   "source": [
    "# training arguments\n",
    "\n",
    "training_args = TrainingArguments(\n",
    "    output_dir = '/home/praveen/theoden/ul_paper/outputs/grad_diff',\n",
    "    learning_rate = cfg.lr,\n",
    "    per_device_train_batch_size= 4,\n",
    "    num_train_epochs= 10,\n",
    "    weight_decay = cfg.weight_decay,\n",
    "    logging_dir = f'{cfg.save_dir}/logs',\n",
    "    #save_steps = cfg.forget.save_steps,\n",
    "    evaluation_strategy= 'no',\n",
    "    save_total_limit= 2,\n",
    "    bf16 = True,\n",
    "\n",
    ")"
   ]
  },
  {
   "cell_type": "code",
   "execution_count": null,
   "metadata": {},
   "outputs": [
    {
     "name": "stderr",
     "output_type": "stream",
     "text": [
      "/tmp/ipykernel_2227744/3049538443.py:1: FutureWarning: `tokenizer` is deprecated and will be removed in version 5.0.0 for `GradDiffTrainer.__init__`. Use `processing_class` instead.\n",
      "  trainer = GradDiffTrainer(\n"
     ]
    }
   ],
   "source": [
    "trainer = GradDiffTrainer(\n",
    "    model = model,\n",
    "    args = training_args,\n",
    "    train_dataset = dataset,\n",
    "    tokenizer = tokenizer,\n",
    "    data_collator = custom_gd_collator_forget,\n",
    ")"
   ]
  },
  {
   "cell_type": "code",
   "execution_count": 18,
   "metadata": {},
   "outputs": [
    {
     "name": "stderr",
     "output_type": "stream",
     "text": [
      "\u001b[34m\u001b[1mwandb\u001b[0m: \u001b[33mWARNING\u001b[0m The `run_name` is currently set to the same value as `TrainingArguments.output_dir`. If this was not intended, please specify a different run name by setting the `TrainingArguments.run_name` parameter.\n",
      "\u001b[34m\u001b[1mwandb\u001b[0m: Using wandb-core as the SDK backend. Please refer to https://wandb.me/wandb-core for more information.\n"
     ]
    },
    {
     "name": "stderr",
     "output_type": "stream",
     "text": [
      "\u001b[34m\u001b[1mwandb\u001b[0m: Currently logged in as: \u001b[33mpraveenbushipaka942\u001b[0m. Use \u001b[1m`wandb login --relogin`\u001b[0m to force relogin\n"
     ]
    },
    {
     "data": {
      "text/html": [
       "Tracking run with wandb version 0.18.5"
      ],
      "text/plain": [
       "<IPython.core.display.HTML object>"
      ]
     },
     "metadata": {},
     "output_type": "display_data"
    },
    {
     "data": {
      "text/html": [
       "Run data is saved locally in <code>/home/praveen/theoden/ul_paper/wandb/run-20250129_123431-io0z6fol</code>"
      ],
      "text/plain": [
       "<IPython.core.display.HTML object>"
      ]
     },
     "metadata": {},
     "output_type": "display_data"
    },
    {
     "data": {
      "text/html": [
       "Syncing run <strong><a href='https://wandb.ai/praveenbushipaka942/huggingface/runs/io0z6fol' target=\"_blank\">/home/praveen/theoden/ul_paper/outputs/grad_diff</a></strong> to <a href='https://wandb.ai/praveenbushipaka942/huggingface' target=\"_blank\">Weights & Biases</a> (<a href='https://wandb.me/run' target=\"_blank\">docs</a>)<br/>"
      ],
      "text/plain": [
       "<IPython.core.display.HTML object>"
      ]
     },
     "metadata": {},
     "output_type": "display_data"
    },
    {
     "data": {
      "text/html": [
       " View project at <a href='https://wandb.ai/praveenbushipaka942/huggingface' target=\"_blank\">https://wandb.ai/praveenbushipaka942/huggingface</a>"
      ],
      "text/plain": [
       "<IPython.core.display.HTML object>"
      ]
     },
     "metadata": {},
     "output_type": "display_data"
    },
    {
     "data": {
      "text/html": [
       " View run at <a href='https://wandb.ai/praveenbushipaka942/huggingface/runs/io0z6fol' target=\"_blank\">https://wandb.ai/praveenbushipaka942/huggingface/runs/io0z6fol</a>"
      ],
      "text/plain": [
       "<IPython.core.display.HTML object>"
      ]
     },
     "metadata": {},
     "output_type": "display_data"
    },
    {
     "name": "stderr",
     "output_type": "stream",
     "text": [
      "Could not estimate the number of tokens of the input, floating-point operations will not be computed\n"
     ]
    },
    {
     "data": {
      "text/html": [
       "\n",
       "    <div>\n",
       "      \n",
       "      <progress value='1210' max='1210' style='width:300px; height:20px; vertical-align: middle;'></progress>\n",
       "      [1210/1210 12:52, Epoch 10/10]\n",
       "    </div>\n",
       "    <table border=\"1\" class=\"dataframe\">\n",
       "  <thead>\n",
       " <tr style=\"text-align: left;\">\n",
       "      <th>Step</th>\n",
       "      <th>Training Loss</th>\n",
       "    </tr>\n",
       "  </thead>\n",
       "  <tbody>\n",
       "    <tr>\n",
       "      <td>500</td>\n",
       "      <td>-41.710600</td>\n",
       "    </tr>\n",
       "    <tr>\n",
       "      <td>1000</td>\n",
       "      <td>-177.752700</td>\n",
       "    </tr>\n",
       "  </tbody>\n",
       "</table><p>"
      ],
      "text/plain": [
       "<IPython.core.display.HTML object>"
      ]
     },
     "metadata": {},
     "output_type": "display_data"
    },
    {
     "data": {
      "text/plain": [
       "TrainOutput(global_step=1210, training_loss=-125.75792387654958, metrics={'train_runtime': 777.8972, 'train_samples_per_second': 6.183, 'train_steps_per_second': 1.555, 'total_flos': 0.0, 'train_loss': -125.75792387654958, 'epoch': 10.0})"
      ]
     },
     "execution_count": 18,
     "metadata": {},
     "output_type": "execute_result"
    }
   ],
   "source": [
    "# train the model\n",
    "model.config.use_cache = False\n",
    "trainer.train()\n"
   ]
  },
  {
   "cell_type": "code",
   "execution_count": 19,
   "metadata": {},
   "outputs": [
    {
     "name": "stdout",
     "output_type": "stream",
     "text": [
      "Forget LoRA adapter saved at /home/praveen/theoden/ul_paper/outputs/grad_diff\n"
     ]
    }
   ],
   "source": [
    "output_dir = '/home/praveen/theoden/ul_paper/outputs/grad_diff'\n",
    "\n",
    "model.save_pretrained(output_dir)\n",
    "#tokenizer.save_pretrained(output_dir)\n",
    "print(f'Forget LoRA adapter saved at {output_dir}')"
   ]
  },
  {
   "cell_type": "code",
   "execution_count": 20,
   "metadata": {},
   "outputs": [],
   "source": [
    "del model\n",
    "torch.cuda.empty_cache()\n",
    "torch.cuda.synchronize()"
   ]
  },
  {
   "cell_type": "code",
   "execution_count": 21,
   "metadata": {},
   "outputs": [
    {
     "data": {
      "application/vnd.jupyter.widget-view+json": {
       "model_id": "babf3e5906b741c9b6f04bfd8494b702",
       "version_major": 2,
       "version_minor": 0
      },
      "text/plain": [
       "Loading checkpoint shards:   0%|          | 0/4 [00:00<?, ?it/s]"
      ]
     },
     "metadata": {},
     "output_type": "display_data"
    }
   ],
   "source": [
    "base_model = AutoModelForCausalLM.from_pretrained(cfg.model_id,\n",
    "                                             device_map = 'auto',\n",
    "                                             torch_dtype = torch.bfloat16,\n",
    "                                             token = cfg.access_token)"
   ]
  },
  {
   "cell_type": "code",
   "execution_count": 22,
   "metadata": {},
   "outputs": [
    {
     "data": {
      "text/plain": [
       "LlamaForCausalLM(\n",
       "  (model): LlamaModel(\n",
       "    (embed_tokens): Embedding(128256, 4096)\n",
       "    (layers): ModuleList(\n",
       "      (0-31): 32 x LlamaDecoderLayer(\n",
       "        (self_attn): LlamaAttention(\n",
       "          (q_proj): Linear(in_features=4096, out_features=4096, bias=False)\n",
       "          (k_proj): Linear(in_features=4096, out_features=1024, bias=False)\n",
       "          (v_proj): Linear(in_features=4096, out_features=1024, bias=False)\n",
       "          (o_proj): Linear(in_features=4096, out_features=4096, bias=False)\n",
       "        )\n",
       "        (mlp): LlamaMLP(\n",
       "          (gate_proj): Linear(in_features=4096, out_features=14336, bias=False)\n",
       "          (up_proj): Linear(in_features=4096, out_features=14336, bias=False)\n",
       "          (down_proj): Linear(in_features=14336, out_features=4096, bias=False)\n",
       "          (act_fn): SiLU()\n",
       "        )\n",
       "        (input_layernorm): LlamaRMSNorm((4096,), eps=1e-05)\n",
       "        (post_attention_layernorm): LlamaRMSNorm((4096,), eps=1e-05)\n",
       "      )\n",
       "    )\n",
       "    (norm): LlamaRMSNorm((4096,), eps=1e-05)\n",
       "    (rotary_emb): LlamaRotaryEmbedding()\n",
       "  )\n",
       "  (lm_head): Linear(in_features=4096, out_features=128256, bias=False)\n",
       ")"
      ]
     },
     "execution_count": 22,
     "metadata": {},
     "output_type": "execute_result"
    }
   ],
   "source": [
    "#config = PeftConfig.from_pretrained(output_dir)\n",
    "\n",
    "peft_model_id = '/home/praveen/theoden/ul_paper/outputs/grad_diff'\n",
    "model = PeftModel.from_pretrained(base_model, peft_model_id)\n",
    "model.merge_and_unload()"
   ]
  },
  {
   "cell_type": "markdown",
   "metadata": {},
   "source": [
    "### perplexity"
   ]
  },
  {
   "cell_type": "code",
   "execution_count": 24,
   "metadata": {},
   "outputs": [
    {
     "name": "stdout",
     "output_type": "stream",
     "text": [
      "calculating perplexity for next_token! Please change this if this is not the case\n",
      "Average loss for 16 batches: 169.24699020385742\n",
      "tensor(inf)\n"
     ]
    }
   ],
   "source": [
    "## perplexity on next token on forget set\n",
    "\n",
    "batch_size = cfg.batch_size\n",
    "max_length = 266\n",
    "\n",
    "next_token_perplexity_ul = Perplexity(\n",
    "    model = model, \n",
    "    tokenizer = tokenizer, \n",
    "    template = LLAMA3_CHAT_TEMPLATE, \n",
    "    batch_size = batch_size, \n",
    "    max_length = max_length,\n",
    "    df =forget,\n",
    "    case='next_token',\n",
    "    chat_tokens=4)\n",
    "\n",
    "print(next_token_perplexity_ul)"
   ]
  },
  {
   "cell_type": "code",
   "execution_count": 26,
   "metadata": {},
   "outputs": [
    {
     "name": "stdout",
     "output_type": "stream",
     "text": [
      "calculating perplexity for next_token! Please change this if this is not the case\n",
      "Average loss for 9 batches: 39.25026363796658\n",
      "tensor(1.1122e+17)\n"
     ]
    }
   ],
   "source": [
    "## perplexity on retain after finetuning on gradient diff\n",
    "## on next token prediction -> includes question and asnwer\n",
    "\n",
    "batch_size = cfg.batch_size\n",
    "max_length = 266\n",
    "\n",
    "next_token_perplexity_ul = Perplexity(\n",
    "    model = model, \n",
    "    tokenizer = tokenizer, \n",
    "    template = LLAMA3_CHAT_TEMPLATE, \n",
    "    batch_size = batch_size, \n",
    "    max_length = max_length,\n",
    "    df =retain,\n",
    "    case='next_token',\n",
    "    chat_tokens=4)\n",
    "\n",
    "print(next_token_perplexity_ul)"
   ]
  },
  {
   "cell_type": "code",
   "execution_count": 25,
   "metadata": {},
   "outputs": [
    {
     "name": "stdout",
     "output_type": "stream",
     "text": [
      "calculating perplexity for qa! Please change this if this is not the case\n",
      "Average loss for 16 batches: 248.79578590393066\n",
      "tensor(inf)\n"
     ]
    }
   ],
   "source": [
    "## perplexity on forget set after finetuning with gadient diff\n",
    "\n",
    "## -> conditional perplexity calculation on answer given a question\n",
    "qa_perplexity_ul = Perplexity(\n",
    "    model = model, \n",
    "    tokenizer =tokenizer, \n",
    "    template =LLAMA3_CHAT_TEMPLATE, \n",
    "    batch_size =batch_size, \n",
    "    max_length =max_length,\n",
    "    df =forget,\n",
    "    case='qa',\n",
    "    chat_tokens=4)\n",
    "\n",
    "print(qa_perplexity_ul)"
   ]
  },
  {
   "cell_type": "code",
   "execution_count": 27,
   "metadata": {},
   "outputs": [
    {
     "name": "stdout",
     "output_type": "stream",
     "text": [
      "calculating perplexity for qa! Please change this if this is not the case\n",
      "Average loss for 9 batches: 48.369163301255966\n",
      "tensor(1.0150e+21)\n"
     ]
    }
   ],
   "source": [
    "## perplexity on retain after finetuning on gradient diff\n",
    "## -> conditional perplexity calculation on answer given a question\n",
    "\n",
    "qa_perplexity_ul = Perplexity(\n",
    "    model = model, \n",
    "    tokenizer =tokenizer, \n",
    "    template =LLAMA3_CHAT_TEMPLATE, \n",
    "    batch_size =batch_size, \n",
    "    max_length =max_length,\n",
    "    df = retain,\n",
    "    case='qa',\n",
    "    chat_tokens=4)\n",
    "\n",
    "print(qa_perplexity_ul)"
   ]
  },
  {
   "cell_type": "markdown",
   "metadata": {},
   "source": [
    "### changing forget to retain"
   ]
  },
  {
   "cell_type": "code",
   "execution_count": 13,
   "metadata": {},
   "outputs": [],
   "source": [
    "# careful, im importing forget as retain file (because retain has less data)\n",
    "\n",
    "retain = pd.read_csv('/home/praveen/theoden/ul_paper/dataset/forget.csv')\n",
    "forget = pd.read_csv('/home/praveen/theoden/ul_paper/dataset/retain.csv')"
   ]
  },
  {
   "cell_type": "code",
   "execution_count": 17,
   "metadata": {},
   "outputs": [],
   "source": [
    "dataset = DualDataset(forget, retain, tokenizer, 266)"
   ]
  },
  {
   "cell_type": "code",
   "execution_count": 18,
   "metadata": {},
   "outputs": [
    {
     "name": "stderr",
     "output_type": "stream",
     "text": [
      "/home/praveen/miniconda3/envs/semeval/lib/python3.11/site-packages/transformers/training_args.py:1575: FutureWarning: `evaluation_strategy` is deprecated and will be removed in version 4.46 of 🤗 Transformers. Use `eval_strategy` instead\n",
      "  warnings.warn(\n"
     ]
    }
   ],
   "source": [
    "# training arguments\n",
    "from transformers import TrainingArguments\n",
    "\n",
    "training_args = TrainingArguments(\n",
    "    output_dir = '/home/praveen/theoden/ul_paper/outputs/grad_diff2',\n",
    "    learning_rate = cfg.lr,\n",
    "    per_device_train_batch_size= 4,\n",
    "    num_train_epochs= 10,\n",
    "    weight_decay = cfg.weight_decay,\n",
    "    logging_dir = f'{cfg.save_dir}/logs',\n",
    "    #save_steps = cfg.forget.save_steps,\n",
    "    evaluation_strategy= 'no',\n",
    "    save_total_limit= 2,\n",
    "    bf16 = True,\n",
    "\n",
    ")"
   ]
  },
  {
   "cell_type": "code",
   "execution_count": 19,
   "metadata": {},
   "outputs": [
    {
     "name": "stderr",
     "output_type": "stream",
     "text": [
      "/tmp/ipykernel_2424033/3049538443.py:1: FutureWarning: `tokenizer` is deprecated and will be removed in version 5.0.0 for `GradDiffTrainer.__init__`. Use `processing_class` instead.\n",
      "  trainer = GradDiffTrainer(\n"
     ]
    }
   ],
   "source": [
    "trainer = GradDiffTrainer(\n",
    "    model = model,\n",
    "    args = training_args,\n",
    "    train_dataset = dataset,\n",
    "    tokenizer = tokenizer,\n",
    "    data_collator = custom_data_collator_forget,\n",
    ")"
   ]
  },
  {
   "cell_type": "code",
   "execution_count": 20,
   "metadata": {},
   "outputs": [
    {
     "name": "stderr",
     "output_type": "stream",
     "text": [
      "\u001b[34m\u001b[1mwandb\u001b[0m: \u001b[33mWARNING\u001b[0m The `run_name` is currently set to the same value as `TrainingArguments.output_dir`. If this was not intended, please specify a different run name by setting the `TrainingArguments.run_name` parameter.\n",
      "\u001b[34m\u001b[1mwandb\u001b[0m: Using wandb-core as the SDK backend. Please refer to https://wandb.me/wandb-core for more information.\n",
      "\u001b[34m\u001b[1mwandb\u001b[0m: Currently logged in as: \u001b[33mpraveenbushipaka942\u001b[0m. Use \u001b[1m`wandb login --relogin`\u001b[0m to force relogin\n"
     ]
    },
    {
     "data": {
      "text/html": [
       "Tracking run with wandb version 0.18.5"
      ],
      "text/plain": [
       "<IPython.core.display.HTML object>"
      ]
     },
     "metadata": {},
     "output_type": "display_data"
    },
    {
     "data": {
      "text/html": [
       "Run data is saved locally in <code>/home/praveen/theoden/ul_paper/wandb/run-20250129_154432-tt7m0mmu</code>"
      ],
      "text/plain": [
       "<IPython.core.display.HTML object>"
      ]
     },
     "metadata": {},
     "output_type": "display_data"
    },
    {
     "data": {
      "text/html": [
       "Syncing run <strong><a href='https://wandb.ai/praveenbushipaka942/huggingface/runs/tt7m0mmu' target=\"_blank\">/home/praveen/theoden/ul_paper/outputs/grad_diff2</a></strong> to <a href='https://wandb.ai/praveenbushipaka942/huggingface' target=\"_blank\">Weights & Biases</a> (<a href='https://wandb.me/run' target=\"_blank\">docs</a>)<br/>"
      ],
      "text/plain": [
       "<IPython.core.display.HTML object>"
      ]
     },
     "metadata": {},
     "output_type": "display_data"
    },
    {
     "data": {
      "text/html": [
       " View project at <a href='https://wandb.ai/praveenbushipaka942/huggingface' target=\"_blank\">https://wandb.ai/praveenbushipaka942/huggingface</a>"
      ],
      "text/plain": [
       "<IPython.core.display.HTML object>"
      ]
     },
     "metadata": {},
     "output_type": "display_data"
    },
    {
     "data": {
      "text/html": [
       " View run at <a href='https://wandb.ai/praveenbushipaka942/huggingface/runs/tt7m0mmu' target=\"_blank\">https://wandb.ai/praveenbushipaka942/huggingface/runs/tt7m0mmu</a>"
      ],
      "text/plain": [
       "<IPython.core.display.HTML object>"
      ]
     },
     "metadata": {},
     "output_type": "display_data"
    },
    {
     "name": "stderr",
     "output_type": "stream",
     "text": [
      "Could not estimate the number of tokens of the input, floating-point operations will not be computed\n"
     ]
    },
    {
     "data": {
      "text/html": [
       "\n",
       "    <div>\n",
       "      \n",
       "      <progress value='1210' max='1210' style='width:300px; height:20px; vertical-align: middle;'></progress>\n",
       "      [1210/1210 12:49, Epoch 10/10]\n",
       "    </div>\n",
       "    <table border=\"1\" class=\"dataframe\">\n",
       "  <thead>\n",
       " <tr style=\"text-align: left;\">\n",
       "      <th>Step</th>\n",
       "      <th>Training Loss</th>\n",
       "    </tr>\n",
       "  </thead>\n",
       "  <tbody>\n",
       "    <tr>\n",
       "      <td>500</td>\n",
       "      <td>-18.872100</td>\n",
       "    </tr>\n",
       "    <tr>\n",
       "      <td>1000</td>\n",
       "      <td>-78.377100</td>\n",
       "    </tr>\n",
       "  </tbody>\n",
       "</table><p>"
      ],
      "text/plain": [
       "<IPython.core.display.HTML object>"
      ]
     },
     "metadata": {},
     "output_type": "display_data"
    },
    {
     "data": {
      "text/plain": [
       "TrainOutput(global_step=1210, training_loss=-56.120172068698345, metrics={'train_runtime': 773.1528, 'train_samples_per_second': 6.221, 'train_steps_per_second': 1.565, 'total_flos': 0.0, 'train_loss': -56.120172068698345, 'epoch': 10.0})"
      ]
     },
     "execution_count": 20,
     "metadata": {},
     "output_type": "execute_result"
    }
   ],
   "source": [
    "# train the model\n",
    "model.config.use_cache = False\n",
    "trainer.train()"
   ]
  },
  {
   "cell_type": "code",
   "execution_count": 22,
   "metadata": {},
   "outputs": [
    {
     "name": "stdout",
     "output_type": "stream",
     "text": [
      "Forget LoRA adapter saved at /home/praveen/theoden/ul_paper/outputs/grad_diff2\n"
     ]
    }
   ],
   "source": [
    "output_dir = '/home/praveen/theoden/ul_paper/outputs/grad_diff2'\n",
    "\n",
    "model.save_pretrained(output_dir)\n",
    "#tokenizer.save_pretrained(output_dir)\n",
    "print(f'Forget LoRA adapter saved at {output_dir}')"
   ]
  },
  {
   "cell_type": "code",
   "execution_count": 23,
   "metadata": {},
   "outputs": [],
   "source": [
    "del model\n",
    "torch.cuda.empty_cache()\n",
    "torch.cuda.synchronize()"
   ]
  },
  {
   "cell_type": "code",
   "execution_count": 24,
   "metadata": {},
   "outputs": [
    {
     "data": {
      "application/vnd.jupyter.widget-view+json": {
       "model_id": "c2e338bbbfe34717902fd338986e899c",
       "version_major": 2,
       "version_minor": 0
      },
      "text/plain": [
       "Loading checkpoint shards:   0%|          | 0/4 [00:00<?, ?it/s]"
      ]
     },
     "metadata": {},
     "output_type": "display_data"
    }
   ],
   "source": [
    "base_model = AutoModelForCausalLM.from_pretrained(cfg.model_id,\n",
    "                                             device_map = 'auto',\n",
    "                                             torch_dtype = torch.bfloat16,\n",
    "                                             token = cfg.access_token)"
   ]
  },
  {
   "cell_type": "code",
   "execution_count": 25,
   "metadata": {},
   "outputs": [
    {
     "data": {
      "text/plain": [
       "LlamaForCausalLM(\n",
       "  (model): LlamaModel(\n",
       "    (embed_tokens): Embedding(128256, 4096)\n",
       "    (layers): ModuleList(\n",
       "      (0-31): 32 x LlamaDecoderLayer(\n",
       "        (self_attn): LlamaAttention(\n",
       "          (q_proj): Linear(in_features=4096, out_features=4096, bias=False)\n",
       "          (k_proj): Linear(in_features=4096, out_features=1024, bias=False)\n",
       "          (v_proj): Linear(in_features=4096, out_features=1024, bias=False)\n",
       "          (o_proj): Linear(in_features=4096, out_features=4096, bias=False)\n",
       "        )\n",
       "        (mlp): LlamaMLP(\n",
       "          (gate_proj): Linear(in_features=4096, out_features=14336, bias=False)\n",
       "          (up_proj): Linear(in_features=4096, out_features=14336, bias=False)\n",
       "          (down_proj): Linear(in_features=14336, out_features=4096, bias=False)\n",
       "          (act_fn): SiLU()\n",
       "        )\n",
       "        (input_layernorm): LlamaRMSNorm((4096,), eps=1e-05)\n",
       "        (post_attention_layernorm): LlamaRMSNorm((4096,), eps=1e-05)\n",
       "      )\n",
       "    )\n",
       "    (norm): LlamaRMSNorm((4096,), eps=1e-05)\n",
       "    (rotary_emb): LlamaRotaryEmbedding()\n",
       "  )\n",
       "  (lm_head): Linear(in_features=4096, out_features=128256, bias=False)\n",
       ")"
      ]
     },
     "execution_count": 25,
     "metadata": {},
     "output_type": "execute_result"
    }
   ],
   "source": [
    "from peft import PeftModel\n",
    "\n",
    "#config = PeftConfig.from_pretrained(output_dir)\n",
    "\n",
    "peft_model_id = '/home/praveen/theoden/ul_paper/outputs/grad_diff2'\n",
    "model = PeftModel.from_pretrained(base_model, peft_model_id)\n",
    "model.merge_and_unload()"
   ]
  },
  {
   "cell_type": "markdown",
   "metadata": {},
   "source": [
    "### perplexity 2"
   ]
  },
  {
   "cell_type": "code",
   "execution_count": 27,
   "metadata": {},
   "outputs": [
    {
     "name": "stdout",
     "output_type": "stream",
     "text": [
      "calculating perplexity for next_token! Please change this if this is not the case\n",
      "Average loss for 9 batches: 88.04030524359808\n",
      "tensor(1.7196e+38)\n"
     ]
    }
   ],
   "source": [
    "## perplexity on next token on forget set\n",
    "\n",
    "batch_size = cfg.batch_size\n",
    "max_length = 266\n",
    "\n",
    "next_token_perplexity_ul = Perplexity(\n",
    "    model = model, \n",
    "    tokenizer = tokenizer, \n",
    "    template = LLAMA3_CHAT_TEMPLATE, \n",
    "    batch_size = batch_size, \n",
    "    max_length = max_length,\n",
    "    df =forget,\n",
    "    case='next_token',\n",
    "    chat_tokens=4)\n",
    "\n",
    "print(next_token_perplexity_ul)"
   ]
  },
  {
   "cell_type": "code",
   "execution_count": 28,
   "metadata": {},
   "outputs": [
    {
     "name": "stdout",
     "output_type": "stream",
     "text": [
      "calculating perplexity for qa! Please change this if this is not the case\n",
      "Average loss for 9 batches: 103.56071387396918\n",
      "tensor(inf)\n"
     ]
    }
   ],
   "source": [
    "## perplexity on forget set after finetuning with gadient diff\n",
    "\n",
    "## -> conditional perplexity calculation on answer given a question\n",
    "qa_perplexity_ul = Perplexity(\n",
    "    model = model, \n",
    "    tokenizer =tokenizer, \n",
    "    template =LLAMA3_CHAT_TEMPLATE, \n",
    "    batch_size =batch_size, \n",
    "    max_length =max_length,\n",
    "    df =forget,\n",
    "    case='qa',\n",
    "    chat_tokens=4)\n",
    "\n",
    "print(qa_perplexity_ul)"
   ]
  },
  {
   "cell_type": "code",
   "execution_count": 29,
   "metadata": {},
   "outputs": [
    {
     "name": "stdout",
     "output_type": "stream",
     "text": [
      "calculating perplexity for next_token! Please change this if this is not the case\n",
      "Average loss for 16 batches: 14.92553260922432\n",
      "tensor(3034424.5000)\n"
     ]
    }
   ],
   "source": [
    "## perplexity on retain after finetuning on gradient diff\n",
    "## on next token prediction -> includes question and asnwer\n",
    "\n",
    "batch_size = cfg.batch_size\n",
    "max_length = 266\n",
    "\n",
    "next_token_perplexity_ul = Perplexity(\n",
    "    model = model, \n",
    "    tokenizer = tokenizer, \n",
    "    template = LLAMA3_CHAT_TEMPLATE, \n",
    "    batch_size = batch_size, \n",
    "    max_length = max_length,\n",
    "    df =retain,\n",
    "    case='next_token',\n",
    "    chat_tokens=4)\n",
    "\n",
    "print(next_token_perplexity_ul)"
   ]
  },
  {
   "cell_type": "code",
   "execution_count": 30,
   "metadata": {},
   "outputs": [
    {
     "name": "stdout",
     "output_type": "stream",
     "text": [
      "calculating perplexity for qa! Please change this if this is not the case\n",
      "Average loss for 16 batches: 12.331904746592045\n",
      "tensor(226818.2656)\n"
     ]
    }
   ],
   "source": [
    "qa_perplexity_ul = Perplexity(\n",
    "    model = model, \n",
    "    tokenizer =tokenizer, \n",
    "    template =LLAMA3_CHAT_TEMPLATE, \n",
    "    batch_size =batch_size, \n",
    "    max_length =max_length,\n",
    "    df = retain,\n",
    "    case='qa',\n",
    "    chat_tokens=4)\n",
    "\n",
    "print(qa_perplexity_ul)"
   ]
  }
 ],
 "metadata": {
  "kernelspec": {
   "display_name": "semeval",
   "language": "python",
   "name": "semeval"
  },
  "language_info": {
   "codemirror_mode": {
    "name": "ipython",
    "version": 3
   },
   "file_extension": ".py",
   "mimetype": "text/x-python",
   "name": "python",
   "nbconvert_exporter": "python",
   "pygments_lexer": "ipython3",
   "version": "3.11.10"
  }
 },
 "nbformat": 4,
 "nbformat_minor": 2
}
