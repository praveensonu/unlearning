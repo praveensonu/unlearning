{
 "cells": [
  {
   "cell_type": "code",
   "execution_count": 1,
   "metadata": {},
   "outputs": [],
   "source": [
    "import pandas as pd\n",
    "import torch\n",
    "import os\n",
    "from transformers import AutoTokenizer, AutoModelForCausalLM\n",
    "from data_module import convert_raw_data_to_model_qa, QAForgetDataset, custom_data_collator_forget\n",
    "from config import Config\n",
    "from datasets import Dataset, concatenate_datasets"
   ]
  },
  {
   "cell_type": "code",
   "execution_count": 2,
   "metadata": {},
   "outputs": [],
   "source": [
    "os.environ[\"CUDA_VISIBLE_DEVICES\"] = \"0,2\""
   ]
  },
  {
   "cell_type": "code",
   "execution_count": 3,
   "metadata": {},
   "outputs": [],
   "source": [
    "## using the llama 3 template here, we can later change it to Olmo's template for our experiments\n",
    "\n",
    "LLAMA3_CHAT_TEMPLATE = \"\"\"<|start_header_id|>user<|end_header_id|>\n",
    "\n",
    "{instruction}<|eot_id|><|start_header_id|>assistant<|end_header_id|>\n",
    "\n",
    "\"\"\""
   ]
  },
  {
   "cell_type": "markdown",
   "metadata": {},
   "source": [
    "### creating dataframe with forget and retain"
   ]
  },
  {
   "cell_type": "code",
   "execution_count": 4,
   "metadata": {},
   "outputs": [],
   "source": [
    "forget = pd.read_csv('/home/praveen/theoden/ul_paper/dataset/forget.csv')\n",
    "retain = pd.read_csv('/home/praveen/theoden/ul_paper/dataset/retain.csv')"
   ]
  },
  {
   "cell_type": "code",
   "execution_count": 5,
   "metadata": {},
   "outputs": [
    {
     "name": "stdout",
     "output_type": "stream",
     "text": [
      "10 5\n"
     ]
    }
   ],
   "source": [
    "forget = forget[:10]\n",
    "retain = retain[:5]\n",
    "print(len(forget),len(retain))"
   ]
  },
  {
   "cell_type": "code",
   "execution_count": 6,
   "metadata": {},
   "outputs": [],
   "source": [
    "cfg = Config()"
   ]
  },
  {
   "cell_type": "code",
   "execution_count": 7,
   "metadata": {},
   "outputs": [],
   "source": [
    "tokenizer = AutoTokenizer.from_pretrained(cfg.model_id, token = cfg.access_token)\n",
    "tokenizer.pad_token = tokenizer.eos_token"
   ]
  },
  {
   "cell_type": "code",
   "execution_count": 8,
   "metadata": {},
   "outputs": [],
   "source": [
    "def convert_raw_data_to_model_qa(tokenizer, max_length, question, answer):\n",
    "    \"\"\"\n",
    "    prepares input and labeled for the model based on the specified format\n",
    "    \"\"\"\n",
    "    # if configs['model_family'] == 'llama3-8b-instruct':\n",
    "    new_question = LLAMA3_CHAT_TEMPLATE.format(instruction=question)\n",
    "    # else:\n",
    "    #     raise ValueError(f\"Invalid model_family: {configs['model_family']}\")\n",
    "    \n",
    "    full_text = new_question + answer\n",
    "    num_question_tokens = len(tokenizer.tokenize(new_question, add_special_tokens=True))\n",
    "\n",
    "    encoded = tokenizer(\n",
    "        full_text,\n",
    "        add_special_tokens=True,\n",
    "        max_length=max_length,\n",
    "        truncation=True,\n",
    "    )\n",
    "\n",
    "    pad_length = max_length - len(encoded['input_ids'])\n",
    "    pad_input_ids = encoded['input_ids'] + [tokenizer.pad_token_id] * pad_length\n",
    "    pad_attention_mask = encoded['attention_mask'] + [0] * pad_length\n",
    "\n",
    "    if len(encoded['input_ids']) == max_length:\n",
    "        label = encoded.input_ids\n",
    "    else:\n",
    "        label = encoded['input_ids'] + [tokenizer.eos_token_id] + [-100] * (pad_length - 1)\n",
    "\n",
    "    # Mask out the question tokens in the labels\n",
    "    for i in range(num_question_tokens):\n",
    "        label[i] = -100\n",
    "\n",
    "    return torch.tensor(pad_input_ids), torch.tensor(label), torch.tensor(pad_attention_mask)\n",
    "\n"
   ]
  },
  {
   "cell_type": "code",
   "execution_count": 9,
   "metadata": {},
   "outputs": [],
   "source": [
    "from torch.utils.data import Dataset\n",
    "\n",
    "\n",
    "class DualDataset(Dataset):\n",
    "\n",
    "    \"\"\"\n",
    "    Data set class for creating data for forget and retain (which is used by gradient difference)\n",
    "\n",
    "    Args:\n",
    "        forget: forget dataset\n",
    "        retain: retain dataset\n",
    "        tokenizer: tokenizer\n",
    "        max_length: max length\n",
    "\n",
    "    Returns something like this:\n",
    "        (\n",
    "        ([input_ids], [labels], [attention_mask]), # forget date for sample 1\n",
    "        ([input_ids], [labels], [attention_mask]),# retain data for sample 1\n",
    "        ([input_ids], [labels], [attention_mask]), # forget data for sample 2\n",
    "        ([input_ids], [labels], [attention_mask]) # retain data for sample 2\n",
    "        ) \n",
    "\n",
    "    \"\"\"\n",
    "    def __init__(self, forget, retain, tokenizer, max_length):\n",
    "        self.forget = forget.reset_index(drop=True)\n",
    "        self.retain = retain.reset_index(drop=True)\n",
    "        self.tokenizer = tokenizer\n",
    "        self.max_length = max_length\n",
    "\n",
    "    def __len__(self):\n",
    "        return max(len(self.forget), len(self.retain))\n",
    "    \n",
    "    def __getitem__(self, idx):\n",
    "        forget_idx = idx % len(self.forget)\n",
    "        retain_idx = idx % len(self.retain)\n",
    "\n",
    "        forget_data = convert_raw_data_to_model_qa(\n",
    "            self.tokenizer, self.max_length,\n",
    "            self.forget.iloc[forget_idx]['question'],\n",
    "            self.forget.iloc[forget_idx]['answer']\n",
    "        )\n",
    "\n",
    "        retain_data = convert_raw_data_to_model_qa(\n",
    "            self.tokenizer, self.max_length,\n",
    "            self.retain.iloc[retain_idx]['question'],\n",
    "            self.retain.iloc[retain_idx]['answer']\n",
    "        )\n",
    "\n",
    "        return (\n",
    "            (forget_data[0], forget_data[1], forget_data[2]),\n",
    "            (retain_data[0], retain_data[1], retain_data[2])\n",
    "        )"
   ]
  },
  {
   "cell_type": "code",
   "execution_count": 10,
   "metadata": {},
   "outputs": [],
   "source": [
    "def custom_data_collator_forget(samples):\n",
    "    \"\"\"\n",
    "    Custom data collator for forget and retain data\n",
    "\n",
    "    Args:\n",
    "        samples: list of tuples (forget_data, retain_data) from the DualDataset class\n",
    "\n",
    "    Returns:\n",
    "        rets: list of tuples (input_ids, labels, attention_mask)\n",
    "        example output for batch size 2\n",
    "        \n",
    "        [(  #forget data for batch of 2\n",
    "            torch.tensor([[1, 2, 3, 4], [5, 6, 7, 8]]), # input_ids\n",
    "            torch.tensor([[1, 2, 3, 4], [5, 6, 7, 8]]), # labels\n",
    "            torch.tensor([[1, 2, 3, 4], [5, 6, 7, 8]]), # attention_mask\n",
    "            ),\n",
    "            (  #retain data for batch of 2\n",
    "            torch.tensor([[1, 2, 3, 4], [5, 6, 7, 8]]), # input_ids\n",
    "            torch.tensor([[1, 2, 3, 4], [5, 6, 7, 8]]), # labels\n",
    "            torch.tensor([[1, 2, 3, 4], [5, 6, 7, 8]]), # attention_mask\n",
    "            ),\n",
    "        ]\n",
    "\n",
    "    \"\"\"\n",
    "\n",
    "    forget_samples, retain_samples = [sample[0] for sample in samples], [sample[1] for sample in samples]\n",
    "    rets = []\n",
    "    for data_type in [\"forget\", \"retain\"]:\n",
    "        data = forget_samples if data_type == \"forget\" else retain_samples\n",
    "        input_ids = [s[0] for s in data]\n",
    "        labels = [s[1] for s in data]\n",
    "        attention_mask = [s[2] for s in data]\n",
    "        rets.append((torch.stack(input_ids), torch.stack(labels), torch.stack(attention_mask)))\n",
    "    return rets"
   ]
  },
  {
   "cell_type": "markdown",
   "metadata": {},
   "source": [
    "#### LoRA Finetuning"
   ]
  },
  {
   "cell_type": "code",
   "execution_count": 11,
   "metadata": {},
   "outputs": [],
   "source": [
    "from peft import LoraConfig, get_peft_model"
   ]
  },
  {
   "cell_type": "code",
   "execution_count": 12,
   "metadata": {},
   "outputs": [
    {
     "data": {
      "application/vnd.jupyter.widget-view+json": {
       "model_id": "4b8d4654bd494404b110ca74630f0fda",
       "version_major": 2,
       "version_minor": 0
      },
      "text/plain": [
       "Loading checkpoint shards:   0%|          | 0/4 [00:00<?, ?it/s]"
      ]
     },
     "metadata": {},
     "output_type": "display_data"
    }
   ],
   "source": [
    "model = AutoModelForCausalLM.from_pretrained(cfg.model_id, \n",
    "                                             device_map = 'auto',\n",
    "                                             torch_dtype = torch.bfloat16, \n",
    "                                             token=cfg.access_token,)"
   ]
  },
  {
   "cell_type": "code",
   "execution_count": 13,
   "metadata": {},
   "outputs": [
    {
     "name": "stdout",
     "output_type": "stream",
     "text": [
      "trainable params: 18,874,368 || all params: 8,049,135,616 || trainable%: 0.2345\n"
     ]
    }
   ],
   "source": [
    "config = LoraConfig(\n",
    "        r = cfg.LoRA_r,\n",
    "        lora_alpha = cfg.LoRA_alpha,\n",
    "        lora_dropout= cfg.LoRA_dropout,\n",
    "        target_modules = ['v_proj', 'k_proj', 'up_proj', 'o_proj', 'gate_proj', ' q_proj', 'down_proj'],\n",
    "        bias = 'none',\n",
    "        task_type = 'CAUSAL_LM',\n",
    "    )\n",
    "# wrapping the model with the LoRA configuration\n",
    "model = get_peft_model(model, config)\n",
    "model.print_trainable_parameters()"
   ]
  },
  {
   "cell_type": "code",
   "execution_count": 14,
   "metadata": {},
   "outputs": [],
   "source": [
    "dataset = DualDataset(forget, retain, tokenizer, 266)\n"
   ]
  },
  {
   "cell_type": "code",
   "execution_count": 15,
   "metadata": {},
   "outputs": [
    {
     "name": "stdout",
     "output_type": "stream",
     "text": [
      "((tensor([128000, 128006,    882, 128007,    271,    678,   1403,  27373,  12631,\n",
      "           304,    902,   8563,   1611,    452,   8869,  59335,     13, 128009,\n",
      "        128006,  78191, 128007,    271,      1,  32449,     72,  14919,      1,\n",
      "           323,    330,     49,   4210,  22353,   1210, 128009, 128009, 128009,\n",
      "        128009, 128009, 128009, 128009, 128009, 128009, 128009, 128009, 128009,\n",
      "        128009, 128009, 128009, 128009, 128009, 128009, 128009, 128009, 128009,\n",
      "        128009, 128009, 128009, 128009, 128009, 128009, 128009, 128009, 128009,\n",
      "        128009, 128009, 128009, 128009, 128009, 128009, 128009, 128009, 128009,\n",
      "        128009, 128009, 128009, 128009, 128009, 128009, 128009, 128009, 128009,\n",
      "        128009, 128009, 128009, 128009, 128009, 128009, 128009, 128009, 128009,\n",
      "        128009, 128009, 128009, 128009, 128009, 128009, 128009, 128009, 128009,\n",
      "        128009, 128009, 128009, 128009, 128009, 128009, 128009, 128009, 128009,\n",
      "        128009, 128009, 128009, 128009, 128009, 128009, 128009, 128009, 128009,\n",
      "        128009, 128009, 128009, 128009, 128009, 128009, 128009, 128009, 128009,\n",
      "        128009, 128009, 128009, 128009, 128009, 128009, 128009, 128009, 128009,\n",
      "        128009, 128009, 128009, 128009, 128009, 128009, 128009, 128009, 128009,\n",
      "        128009, 128009, 128009, 128009, 128009, 128009, 128009, 128009, 128009,\n",
      "        128009, 128009, 128009, 128009, 128009, 128009, 128009, 128009, 128009,\n",
      "        128009, 128009, 128009, 128009, 128009, 128009, 128009, 128009, 128009,\n",
      "        128009, 128009, 128009, 128009, 128009, 128009, 128009, 128009, 128009,\n",
      "        128009, 128009, 128009, 128009, 128009, 128009, 128009, 128009, 128009,\n",
      "        128009, 128009, 128009, 128009, 128009, 128009, 128009, 128009, 128009,\n",
      "        128009, 128009, 128009, 128009, 128009, 128009, 128009, 128009, 128009,\n",
      "        128009, 128009, 128009, 128009, 128009, 128009, 128009, 128009, 128009,\n",
      "        128009, 128009, 128009, 128009, 128009, 128009, 128009, 128009, 128009,\n",
      "        128009, 128009, 128009, 128009, 128009, 128009, 128009, 128009, 128009,\n",
      "        128009, 128009, 128009, 128009, 128009, 128009, 128009, 128009, 128009,\n",
      "        128009, 128009, 128009, 128009, 128009, 128009, 128009, 128009, 128009,\n",
      "        128009, 128009, 128009, 128009, 128009, 128009, 128009, 128009, 128009,\n",
      "        128009, 128009, 128009, 128009, 128009]), tensor([  -100,   -100,   -100,   -100,   -100,   -100,   -100,   -100,   -100,\n",
      "          -100,   -100,   -100,   -100,   -100,   -100,   -100,   -100,   -100,\n",
      "          -100,   -100,   -100,   -100,      1,  32449,     72,  14919,      1,\n",
      "           323,    330,     49,   4210,  22353,   1210, 128009,   -100,   -100,\n",
      "          -100,   -100,   -100,   -100,   -100,   -100,   -100,   -100,   -100,\n",
      "          -100,   -100,   -100,   -100,   -100,   -100,   -100,   -100,   -100,\n",
      "          -100,   -100,   -100,   -100,   -100,   -100,   -100,   -100,   -100,\n",
      "          -100,   -100,   -100,   -100,   -100,   -100,   -100,   -100,   -100,\n",
      "          -100,   -100,   -100,   -100,   -100,   -100,   -100,   -100,   -100,\n",
      "          -100,   -100,   -100,   -100,   -100,   -100,   -100,   -100,   -100,\n",
      "          -100,   -100,   -100,   -100,   -100,   -100,   -100,   -100,   -100,\n",
      "          -100,   -100,   -100,   -100,   -100,   -100,   -100,   -100,   -100,\n",
      "          -100,   -100,   -100,   -100,   -100,   -100,   -100,   -100,   -100,\n",
      "          -100,   -100,   -100,   -100,   -100,   -100,   -100,   -100,   -100,\n",
      "          -100,   -100,   -100,   -100,   -100,   -100,   -100,   -100,   -100,\n",
      "          -100,   -100,   -100,   -100,   -100,   -100,   -100,   -100,   -100,\n",
      "          -100,   -100,   -100,   -100,   -100,   -100,   -100,   -100,   -100,\n",
      "          -100,   -100,   -100,   -100,   -100,   -100,   -100,   -100,   -100,\n",
      "          -100,   -100,   -100,   -100,   -100,   -100,   -100,   -100,   -100,\n",
      "          -100,   -100,   -100,   -100,   -100,   -100,   -100,   -100,   -100,\n",
      "          -100,   -100,   -100,   -100,   -100,   -100,   -100,   -100,   -100,\n",
      "          -100,   -100,   -100,   -100,   -100,   -100,   -100,   -100,   -100,\n",
      "          -100,   -100,   -100,   -100,   -100,   -100,   -100,   -100,   -100,\n",
      "          -100,   -100,   -100,   -100,   -100,   -100,   -100,   -100,   -100,\n",
      "          -100,   -100,   -100,   -100,   -100,   -100,   -100,   -100,   -100,\n",
      "          -100,   -100,   -100,   -100,   -100,   -100,   -100,   -100,   -100,\n",
      "          -100,   -100,   -100,   -100,   -100,   -100,   -100,   -100,   -100,\n",
      "          -100,   -100,   -100,   -100,   -100,   -100,   -100,   -100,   -100,\n",
      "          -100,   -100,   -100,   -100,   -100,   -100,   -100,   -100,   -100,\n",
      "          -100,   -100,   -100,   -100,   -100]), tensor([1, 1, 1, 1, 1, 1, 1, 1, 1, 1, 1, 1, 1, 1, 1, 1, 1, 1, 1, 1, 1, 1, 1, 1,\n",
      "        1, 1, 1, 1, 1, 1, 1, 1, 1, 0, 0, 0, 0, 0, 0, 0, 0, 0, 0, 0, 0, 0, 0, 0,\n",
      "        0, 0, 0, 0, 0, 0, 0, 0, 0, 0, 0, 0, 0, 0, 0, 0, 0, 0, 0, 0, 0, 0, 0, 0,\n",
      "        0, 0, 0, 0, 0, 0, 0, 0, 0, 0, 0, 0, 0, 0, 0, 0, 0, 0, 0, 0, 0, 0, 0, 0,\n",
      "        0, 0, 0, 0, 0, 0, 0, 0, 0, 0, 0, 0, 0, 0, 0, 0, 0, 0, 0, 0, 0, 0, 0, 0,\n",
      "        0, 0, 0, 0, 0, 0, 0, 0, 0, 0, 0, 0, 0, 0, 0, 0, 0, 0, 0, 0, 0, 0, 0, 0,\n",
      "        0, 0, 0, 0, 0, 0, 0, 0, 0, 0, 0, 0, 0, 0, 0, 0, 0, 0, 0, 0, 0, 0, 0, 0,\n",
      "        0, 0, 0, 0, 0, 0, 0, 0, 0, 0, 0, 0, 0, 0, 0, 0, 0, 0, 0, 0, 0, 0, 0, 0,\n",
      "        0, 0, 0, 0, 0, 0, 0, 0, 0, 0, 0, 0, 0, 0, 0, 0, 0, 0, 0, 0, 0, 0, 0, 0,\n",
      "        0, 0, 0, 0, 0, 0, 0, 0, 0, 0, 0, 0, 0, 0, 0, 0, 0, 0, 0, 0, 0, 0, 0, 0,\n",
      "        0, 0, 0, 0, 0, 0, 0, 0, 0, 0, 0, 0, 0, 0, 0, 0, 0, 0, 0, 0, 0, 0, 0, 0,\n",
      "        0, 0])), (tensor([128000, 128006,    882, 128007,    271,   2409,    902,   7690,    374,\n",
      "          1611,    452,   8869,   1455,   3967,    369,  73301,     30, 128009,\n",
      "        128006,  78191, 128007,    271,   1548,    374,   1455,   3967,    369,\n",
      "         73301,    449,   7690,  11826,   2522,   1105,   2423,     13, 128009,\n",
      "        128009, 128009, 128009, 128009, 128009, 128009, 128009, 128009, 128009,\n",
      "        128009, 128009, 128009, 128009, 128009, 128009, 128009, 128009, 128009,\n",
      "        128009, 128009, 128009, 128009, 128009, 128009, 128009, 128009, 128009,\n",
      "        128009, 128009, 128009, 128009, 128009, 128009, 128009, 128009, 128009,\n",
      "        128009, 128009, 128009, 128009, 128009, 128009, 128009, 128009, 128009,\n",
      "        128009, 128009, 128009, 128009, 128009, 128009, 128009, 128009, 128009,\n",
      "        128009, 128009, 128009, 128009, 128009, 128009, 128009, 128009, 128009,\n",
      "        128009, 128009, 128009, 128009, 128009, 128009, 128009, 128009, 128009,\n",
      "        128009, 128009, 128009, 128009, 128009, 128009, 128009, 128009, 128009,\n",
      "        128009, 128009, 128009, 128009, 128009, 128009, 128009, 128009, 128009,\n",
      "        128009, 128009, 128009, 128009, 128009, 128009, 128009, 128009, 128009,\n",
      "        128009, 128009, 128009, 128009, 128009, 128009, 128009, 128009, 128009,\n",
      "        128009, 128009, 128009, 128009, 128009, 128009, 128009, 128009, 128009,\n",
      "        128009, 128009, 128009, 128009, 128009, 128009, 128009, 128009, 128009,\n",
      "        128009, 128009, 128009, 128009, 128009, 128009, 128009, 128009, 128009,\n",
      "        128009, 128009, 128009, 128009, 128009, 128009, 128009, 128009, 128009,\n",
      "        128009, 128009, 128009, 128009, 128009, 128009, 128009, 128009, 128009,\n",
      "        128009, 128009, 128009, 128009, 128009, 128009, 128009, 128009, 128009,\n",
      "        128009, 128009, 128009, 128009, 128009, 128009, 128009, 128009, 128009,\n",
      "        128009, 128009, 128009, 128009, 128009, 128009, 128009, 128009, 128009,\n",
      "        128009, 128009, 128009, 128009, 128009, 128009, 128009, 128009, 128009,\n",
      "        128009, 128009, 128009, 128009, 128009, 128009, 128009, 128009, 128009,\n",
      "        128009, 128009, 128009, 128009, 128009, 128009, 128009, 128009, 128009,\n",
      "        128009, 128009, 128009, 128009, 128009, 128009, 128009, 128009, 128009,\n",
      "        128009, 128009, 128009, 128009, 128009, 128009, 128009, 128009, 128009,\n",
      "        128009, 128009, 128009, 128009, 128009]), tensor([  -100,   -100,   -100,   -100,   -100,   -100,   -100,   -100,   -100,\n",
      "          -100,   -100,   -100,   -100,   -100,   -100,   -100,   -100,   -100,\n",
      "          -100,   -100,   -100,   -100,   1548,    374,   1455,   3967,    369,\n",
      "         73301,    449,   7690,  11826,   2522,   1105,   2423,     13, 128009,\n",
      "          -100,   -100,   -100,   -100,   -100,   -100,   -100,   -100,   -100,\n",
      "          -100,   -100,   -100,   -100,   -100,   -100,   -100,   -100,   -100,\n",
      "          -100,   -100,   -100,   -100,   -100,   -100,   -100,   -100,   -100,\n",
      "          -100,   -100,   -100,   -100,   -100,   -100,   -100,   -100,   -100,\n",
      "          -100,   -100,   -100,   -100,   -100,   -100,   -100,   -100,   -100,\n",
      "          -100,   -100,   -100,   -100,   -100,   -100,   -100,   -100,   -100,\n",
      "          -100,   -100,   -100,   -100,   -100,   -100,   -100,   -100,   -100,\n",
      "          -100,   -100,   -100,   -100,   -100,   -100,   -100,   -100,   -100,\n",
      "          -100,   -100,   -100,   -100,   -100,   -100,   -100,   -100,   -100,\n",
      "          -100,   -100,   -100,   -100,   -100,   -100,   -100,   -100,   -100,\n",
      "          -100,   -100,   -100,   -100,   -100,   -100,   -100,   -100,   -100,\n",
      "          -100,   -100,   -100,   -100,   -100,   -100,   -100,   -100,   -100,\n",
      "          -100,   -100,   -100,   -100,   -100,   -100,   -100,   -100,   -100,\n",
      "          -100,   -100,   -100,   -100,   -100,   -100,   -100,   -100,   -100,\n",
      "          -100,   -100,   -100,   -100,   -100,   -100,   -100,   -100,   -100,\n",
      "          -100,   -100,   -100,   -100,   -100,   -100,   -100,   -100,   -100,\n",
      "          -100,   -100,   -100,   -100,   -100,   -100,   -100,   -100,   -100,\n",
      "          -100,   -100,   -100,   -100,   -100,   -100,   -100,   -100,   -100,\n",
      "          -100,   -100,   -100,   -100,   -100,   -100,   -100,   -100,   -100,\n",
      "          -100,   -100,   -100,   -100,   -100,   -100,   -100,   -100,   -100,\n",
      "          -100,   -100,   -100,   -100,   -100,   -100,   -100,   -100,   -100,\n",
      "          -100,   -100,   -100,   -100,   -100,   -100,   -100,   -100,   -100,\n",
      "          -100,   -100,   -100,   -100,   -100,   -100,   -100,   -100,   -100,\n",
      "          -100,   -100,   -100,   -100,   -100,   -100,   -100,   -100,   -100,\n",
      "          -100,   -100,   -100,   -100,   -100,   -100,   -100,   -100,   -100,\n",
      "          -100,   -100,   -100,   -100,   -100]), tensor([1, 1, 1, 1, 1, 1, 1, 1, 1, 1, 1, 1, 1, 1, 1, 1, 1, 1, 1, 1, 1, 1, 1, 1,\n",
      "        1, 1, 1, 1, 1, 1, 1, 1, 1, 1, 1, 0, 0, 0, 0, 0, 0, 0, 0, 0, 0, 0, 0, 0,\n",
      "        0, 0, 0, 0, 0, 0, 0, 0, 0, 0, 0, 0, 0, 0, 0, 0, 0, 0, 0, 0, 0, 0, 0, 0,\n",
      "        0, 0, 0, 0, 0, 0, 0, 0, 0, 0, 0, 0, 0, 0, 0, 0, 0, 0, 0, 0, 0, 0, 0, 0,\n",
      "        0, 0, 0, 0, 0, 0, 0, 0, 0, 0, 0, 0, 0, 0, 0, 0, 0, 0, 0, 0, 0, 0, 0, 0,\n",
      "        0, 0, 0, 0, 0, 0, 0, 0, 0, 0, 0, 0, 0, 0, 0, 0, 0, 0, 0, 0, 0, 0, 0, 0,\n",
      "        0, 0, 0, 0, 0, 0, 0, 0, 0, 0, 0, 0, 0, 0, 0, 0, 0, 0, 0, 0, 0, 0, 0, 0,\n",
      "        0, 0, 0, 0, 0, 0, 0, 0, 0, 0, 0, 0, 0, 0, 0, 0, 0, 0, 0, 0, 0, 0, 0, 0,\n",
      "        0, 0, 0, 0, 0, 0, 0, 0, 0, 0, 0, 0, 0, 0, 0, 0, 0, 0, 0, 0, 0, 0, 0, 0,\n",
      "        0, 0, 0, 0, 0, 0, 0, 0, 0, 0, 0, 0, 0, 0, 0, 0, 0, 0, 0, 0, 0, 0, 0, 0,\n",
      "        0, 0, 0, 0, 0, 0, 0, 0, 0, 0, 0, 0, 0, 0, 0, 0, 0, 0, 0, 0, 0, 0, 0, 0,\n",
      "        0, 0])))\n"
     ]
    }
   ],
   "source": [
    "sample = dataset[2]\n",
    "print(sample)"
   ]
  },
  {
   "cell_type": "code",
   "execution_count": 16,
   "metadata": {},
   "outputs": [],
   "source": [
    "from transformers import Trainer\n",
    "\n",
    "class GradDiffTrainer(Trainer):\n",
    "    \n",
    "    def compute_loss(self, model, inputs, return_outputs = False):\n",
    "        forget_inputs, retain_inputs = inputs\n",
    "        input_ids, labels, attention_mask = forget_inputs\n",
    "        outputs = model(input_ids,labels=labels, attention_mask=attention_mask)\n",
    "        forget_loss = outputs.loss\n",
    "        forget_loss = forget_loss * -1\n",
    "        retain_input_ids, retain_labels, retain_attention_mask = retain_inputs\n",
    "        retain_outputs = model(retain_input_ids,labels=retain_labels, attention_mask=retain_attention_mask)\n",
    "        retain_loss = retain_outputs.loss\n",
    "        loss = forget_loss + retain_loss\n",
    "\n",
    "        return (loss, outputs) if return_outputs else loss"
   ]
  },
  {
   "cell_type": "code",
   "execution_count": 17,
   "metadata": {},
   "outputs": [
    {
     "name": "stderr",
     "output_type": "stream",
     "text": [
      "/home/praveen/miniconda3/envs/semeval/lib/python3.11/site-packages/transformers/training_args.py:1575: FutureWarning: `evaluation_strategy` is deprecated and will be removed in version 4.46 of 🤗 Transformers. Use `eval_strategy` instead\n",
      "  warnings.warn(\n"
     ]
    }
   ],
   "source": [
    "# training arguments\n",
    "from transformers import TrainingArguments\n",
    "\n",
    "training_args = TrainingArguments(\n",
    "    output_dir = '/home/praveen/theoden/ul_paper/outputs/grad_diff',\n",
    "    learning_rate = cfg.lr,\n",
    "    per_device_train_batch_size= 4,\n",
    "    num_train_epochs= 10,\n",
    "    weight_decay = cfg.weight_decay,\n",
    "    logging_dir = f'{cfg.save_dir}/logs',\n",
    "    #save_steps = cfg.forget.save_steps,\n",
    "    evaluation_strategy= 'no',\n",
    "    save_total_limit= 2,\n",
    "    bf16 = True,\n",
    "\n",
    ")"
   ]
  },
  {
   "cell_type": "code",
   "execution_count": 18,
   "metadata": {},
   "outputs": [
    {
     "name": "stderr",
     "output_type": "stream",
     "text": [
      "/tmp/ipykernel_2883648/3049538443.py:1: FutureWarning: `tokenizer` is deprecated and will be removed in version 5.0.0 for `GradDiffTrainer.__init__`. Use `processing_class` instead.\n",
      "  trainer = GradDiffTrainer(\n"
     ]
    }
   ],
   "source": [
    "trainer = GradDiffTrainer(\n",
    "    model = model,\n",
    "    args = training_args,\n",
    "    train_dataset = dataset,\n",
    "    tokenizer = tokenizer,\n",
    "    data_collator = custom_data_collator_forget,\n",
    ")"
   ]
  },
  {
   "cell_type": "code",
   "execution_count": 19,
   "metadata": {},
   "outputs": [
    {
     "name": "stderr",
     "output_type": "stream",
     "text": [
      "\u001b[34m\u001b[1mwandb\u001b[0m: \u001b[33mWARNING\u001b[0m The `run_name` is currently set to the same value as `TrainingArguments.output_dir`. If this was not intended, please specify a different run name by setting the `TrainingArguments.run_name` parameter.\n"
     ]
    },
    {
     "name": "stderr",
     "output_type": "stream",
     "text": [
      "\u001b[34m\u001b[1mwandb\u001b[0m: Using wandb-core as the SDK backend. Please refer to https://wandb.me/wandb-core for more information.\n",
      "\u001b[34m\u001b[1mwandb\u001b[0m: Currently logged in as: \u001b[33mpraveenbushipaka942\u001b[0m. Use \u001b[1m`wandb login --relogin`\u001b[0m to force relogin\n"
     ]
    },
    {
     "data": {
      "text/html": [
       "Tracking run with wandb version 0.18.5"
      ],
      "text/plain": [
       "<IPython.core.display.HTML object>"
      ]
     },
     "metadata": {},
     "output_type": "display_data"
    },
    {
     "data": {
      "text/html": [
       "Run data is saved locally in <code>/home/praveen/theoden/ul_paper/wandb/run-20250127_203644-mi67o3ns</code>"
      ],
      "text/plain": [
       "<IPython.core.display.HTML object>"
      ]
     },
     "metadata": {},
     "output_type": "display_data"
    },
    {
     "data": {
      "text/html": [
       "Syncing run <strong><a href='https://wandb.ai/praveenbushipaka942/huggingface/runs/mi67o3ns' target=\"_blank\">/home/praveen/theoden/ul_paper/outputs/grad_diff</a></strong> to <a href='https://wandb.ai/praveenbushipaka942/huggingface' target=\"_blank\">Weights & Biases</a> (<a href='https://wandb.me/run' target=\"_blank\">docs</a>)<br/>"
      ],
      "text/plain": [
       "<IPython.core.display.HTML object>"
      ]
     },
     "metadata": {},
     "output_type": "display_data"
    },
    {
     "data": {
      "text/html": [
       " View project at <a href='https://wandb.ai/praveenbushipaka942/huggingface' target=\"_blank\">https://wandb.ai/praveenbushipaka942/huggingface</a>"
      ],
      "text/plain": [
       "<IPython.core.display.HTML object>"
      ]
     },
     "metadata": {},
     "output_type": "display_data"
    },
    {
     "data": {
      "text/html": [
       " View run at <a href='https://wandb.ai/praveenbushipaka942/huggingface/runs/mi67o3ns' target=\"_blank\">https://wandb.ai/praveenbushipaka942/huggingface/runs/mi67o3ns</a>"
      ],
      "text/plain": [
       "<IPython.core.display.HTML object>"
      ]
     },
     "metadata": {},
     "output_type": "display_data"
    },
    {
     "name": "stderr",
     "output_type": "stream",
     "text": [
      "Could not estimate the number of tokens of the input, floating-point operations will not be computed\n"
     ]
    },
    {
     "data": {
      "text/html": [
       "\n",
       "    <div>\n",
       "      \n",
       "      <progress value='30' max='30' style='width:300px; height:20px; vertical-align: middle;'></progress>\n",
       "      [30/30 00:28, Epoch 10/10]\n",
       "    </div>\n",
       "    <table border=\"1\" class=\"dataframe\">\n",
       "  <thead>\n",
       " <tr style=\"text-align: left;\">\n",
       "      <th>Step</th>\n",
       "      <th>Training Loss</th>\n",
       "    </tr>\n",
       "  </thead>\n",
       "  <tbody>\n",
       "  </tbody>\n",
       "</table><p>"
      ],
      "text/plain": [
       "<IPython.core.display.HTML object>"
      ]
     },
     "metadata": {},
     "output_type": "display_data"
    },
    {
     "data": {
      "text/plain": [
       "TrainOutput(global_step=30, training_loss=-0.011496440569559733, metrics={'train_runtime': 36.0245, 'train_samples_per_second': 2.776, 'train_steps_per_second': 0.833, 'total_flos': 0.0, 'train_loss': -0.011496440569559733, 'epoch': 10.0})"
      ]
     },
     "execution_count": 19,
     "metadata": {},
     "output_type": "execute_result"
    }
   ],
   "source": [
    "# train the model\n",
    "model.config.use_cache = False\n",
    "trainer.train()\n"
   ]
  },
  {
   "cell_type": "code",
   "execution_count": null,
   "metadata": {},
   "outputs": [],
   "source": []
  }
 ],
 "metadata": {
  "kernelspec": {
   "display_name": "semeval",
   "language": "python",
   "name": "semeval"
  },
  "language_info": {
   "codemirror_mode": {
    "name": "ipython",
    "version": 3
   },
   "file_extension": ".py",
   "mimetype": "text/x-python",
   "name": "python",
   "nbconvert_exporter": "python",
   "pygments_lexer": "ipython3",
   "version": "3.11.10"
  }
 },
 "nbformat": 4,
 "nbformat_minor": 2
}
